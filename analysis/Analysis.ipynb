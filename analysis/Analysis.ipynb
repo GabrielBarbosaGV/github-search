{
 "cells": [
  {
   "cell_type": "markdown",
   "metadata": {},
   "source": [
    "# Breve análise dos resultados obtidos\n",
    "\n",
    "Neste notebook, são plotados histogramas para as distribuições de média ponderada de asserções para os projetos coletados."
   ]
  },
  {
   "cell_type": "code",
   "execution_count": 1,
   "metadata": {},
   "outputs": [],
   "source": [
    "collected_projects_dir = '/home/gabriel/Personal/Study/2021.1/TG/collected-projects'"
   ]
  },
  {
   "cell_type": "code",
   "execution_count": 2,
   "metadata": {},
   "outputs": [
    {
     "data": {
      "text/plain": [
       "['ARouter',\n",
       " 'Android-CleanArchitecture',\n",
       " 'Android-ObservableScrollView',\n",
       " 'AndroidAutoSize',\n",
       " 'AndroidUtilCode',\n",
       " 'Auto.js',\n",
       " 'BaseRecyclerViewAdapterHelper',\n",
       " 'Detox',\n",
       " 'DoraemonKit',\n",
       " 'ExoPlayer',\n",
       " 'FileDownloader',\n",
       " 'GSYVideoPlayer',\n",
       " 'ImmersionBar',\n",
       " 'MMKV',\n",
       " 'MPAndroidChart',\n",
       " 'MVPArms',\n",
       " 'MaterialDesignLibrary',\n",
       " 'Matisse',\n",
       " 'NewPipe',\n",
       " 'PermissionsDispatcher',\n",
       " 'PictureSelector',\n",
       " 'QMUI_Android',\n",
       " 'SmartRefreshLayout',\n",
       " 'VirtualXposed',\n",
       " 'androidannotations',\n",
       " 'cocos2d-x',\n",
       " 'easypermissions',\n",
       " 'fastlane',\n",
       " 'flutter',\n",
       " 'glide',\n",
       " 'ijkplayer',\n",
       " 'joplin',\n",
       " 'libgdx',\n",
       " 'logger',\n",
       " 'material-components-android',\n",
       " 'matrix',\n",
       " 'mediapipe',\n",
       " 'realm-java',\n",
       " 'scrcpy',\n",
       " 'termux-app',\n",
       " 'uCrop',\n",
       " 'vlayout',\n",
       " 'wcdb',\n",
       " 'weex',\n",
       " 'xbmc',\n",
       " 'zxing']"
      ]
     },
     "execution_count": 2,
     "metadata": {},
     "output_type": "execute_result"
    }
   ],
   "source": [
    "projects_pattern = f'{collected_projects_dir}/*/'\n",
    "\n",
    "dirnames = !echo $projects_pattern\n",
    "\n",
    "dirnames = dirnames[0].split(' ')\n",
    "dirnames = [dirname[:-1] for dirname in dirnames] # Removendo barra restante de cada nome de diretório\n",
    "\n",
    "[dirname.split('/')[-1] for dirname in dirnames]"
   ]
  },
  {
   "cell_type": "code",
   "execution_count": 3,
   "metadata": {},
   "outputs": [
    {
     "data": {
      "text/plain": [
       "46"
      ]
     },
     "execution_count": 3,
     "metadata": {},
     "output_type": "execute_result"
    }
   ],
   "source": [
    "len(dirnames)"
   ]
  },
  {
   "cell_type": "code",
   "execution_count": 4,
   "metadata": {},
   "outputs": [],
   "source": [
    "text_results_files = [f'{dirname}.txt' for dirname in dirnames]"
   ]
  },
  {
   "cell_type": "code",
   "execution_count": 5,
   "metadata": {},
   "outputs": [],
   "source": [
    "# As únicas coleções de linhas consideráveis são aquelas para as quais não houve erros\n",
    "# e que não ouve resultados NaN, que indicam uma quantidade zero de arquivos Activity.java.\n",
    "# Enquanto há restrições na busca para que projetos sem arquivos Activity.java sejam selecionados,\n",
    "# ainda é possível que essa situação ocorra pela presença de arquivos cujos nomes apresentem a\n",
    "# mesma sequências de letras, como quaisquer que obedeçam a expressão regular\n",
    "# .*A.*c.*t.*i.*v.*i.*t.*.y.*\\..*j.*a.*v.*a.*\n",
    "def is_elligible(lines):\n",
    "    prohibited_elements = [\n",
    "        '!! ERROR !!',\n",
    "        'NaN'\n",
    "    ]\n",
    "    \n",
    "    return not any(any(elem in line for elem in prohibited_elements) for line in lines)\n",
    "\n",
    "def lines_from_filename(filename):\n",
    "    with open(filename, 'r') as f:\n",
    "        return f.readlines()"
   ]
  },
  {
   "cell_type": "code",
   "execution_count": 6,
   "metadata": {},
   "outputs": [],
   "source": [
    "line_lists = map(lines_from_filename, text_results_files)\n",
    "\n",
    "filenames_and_lines = zip(text_results_files, line_lists)\n",
    "\n",
    "elligible_ones = [p for p in filenames_and_lines if is_elligible(p[1])]\n",
    "\n",
    "elligible_line_lists = [lines for filename, lines in elligible_ones]\n",
    "\n",
    "elligible_text_results_files = [filename for filename, lines in elligible_ones]\n",
    "\n",
    "result_strings = [lines[-1] for lines in elligible_line_lists]\n",
    "verdict_strings = [lines[0] for lines in elligible_line_lists]"
   ]
  },
  {
   "cell_type": "code",
   "execution_count": 7,
   "metadata": {},
   "outputs": [],
   "source": [
    "pattern_names = { 'MVC', 'MVP', 'MVVM', 'MVI' }"
   ]
  },
  {
   "cell_type": "code",
   "execution_count": 8,
   "metadata": {},
   "outputs": [],
   "source": [
    "import re"
   ]
  },
  {
   "cell_type": "code",
   "execution_count": 9,
   "metadata": {},
   "outputs": [],
   "source": [
    "def check_pattern_name(pattern_name):\n",
    "    if pattern_name not in pattern_names:\n",
    "        raise Exception(f'Error: given pattern, \"{pattern_name}\", is not one of \"MVC\", \"MVP\", \"MVVM\", or \"MVI\"')\n",
    "\n",
    "def verdict_for_pattern_name(pattern_name, text):\n",
    "    check_pattern_name(pattern_name)\n",
    "    \n",
    "    return pattern_name in text\n",
    "\n",
    "def value_for_pattern_name(pattern_name, text):\n",
    "    check_pattern_name(pattern_name)\n",
    "    \n",
    "    match = re.search(f'{pattern_name}' r': (\\d*.\\d*)', text)\n",
    "    \n",
    "    return float(match.group(1))"
   ]
  },
  {
   "cell_type": "code",
   "execution_count": 10,
   "metadata": {},
   "outputs": [],
   "source": [
    "results_per_pattern = {\n",
    "    pattern_name : [value_for_pattern_name(pattern_name, result_string) for result_string in result_strings]\n",
    "    for pattern_name\n",
    "    in pattern_names\n",
    "}"
   ]
  },
  {
   "cell_type": "code",
   "execution_count": 11,
   "metadata": {},
   "outputs": [],
   "source": [
    "verdicts_per_pattern = {\n",
    "    pattern_name : [verdict_for_pattern_name(pattern_name, verdict_string) for verdict_string in verdict_strings]\n",
    "    for pattern_name\n",
    "    in pattern_names\n",
    "}"
   ]
  },
  {
   "cell_type": "code",
   "execution_count": 12,
   "metadata": {},
   "outputs": [
    {
     "name": "stdout",
     "output_type": "stream",
     "text": [
      "WARNING: pip is being invoked by an old script wrapper. This will fail in a future version of pip.\n",
      "Please see https://github.com/pypa/pip/issues/5599 for advice on fixing the underlying issue.\n",
      "To avoid this problem you can invoke Python with '-m pip' instead of running pip directly.\n",
      "Requirement already satisfied: pandas in /home/gabriel/snap/jupyter/common/lib/python3.7/site-packages (1.3.5)\n",
      "Requirement already satisfied: pytz>=2017.3 in /home/gabriel/snap/jupyter/common/lib/python3.7/site-packages (from pandas) (2022.1)\n",
      "Requirement already satisfied: numpy>=1.17.3 in /home/gabriel/snap/jupyter/common/lib/python3.7/site-packages (from pandas) (1.21.5)\n",
      "Requirement already satisfied: python-dateutil>=2.7.3 in /snap/jupyter/6/lib/python3.7/site-packages (from pandas) (2.8.0)\n",
      "Requirement already satisfied: six>=1.5 in /snap/jupyter/6/lib/python3.7/site-packages (from python-dateutil>=2.7.3->pandas) (1.12.0)\n"
     ]
    }
   ],
   "source": [
    "!pip install pandas"
   ]
  },
  {
   "cell_type": "code",
   "execution_count": 13,
   "metadata": {},
   "outputs": [],
   "source": [
    "import pandas as pd"
   ]
  },
  {
   "cell_type": "code",
   "execution_count": 14,
   "metadata": {},
   "outputs": [],
   "source": [
    "ordered_pattern_names = ['MVC', 'MVP', 'MVVM', 'MVI']\n",
    "\n",
    "result_lists = [results_per_pattern[pattern_name] for pattern_name in ordered_pattern_names]\n",
    "verdict_lists = [verdicts_per_pattern[pattern_name] for pattern_name in ordered_pattern_names]\n",
    "\n",
    "result_table_transposed = [elligible_text_results_files, *result_lists, *verdict_lists]\n",
    "\n",
    "result_table = list(zip(*result_table_transposed))"
   ]
  },
  {
   "cell_type": "code",
   "execution_count": 15,
   "metadata": {},
   "outputs": [
    {
     "data": {
      "text/plain": [
       "[('/home/gabriel/Personal/Study/2021.1/TG/collected-projects/ARouter.txt',\n",
       "  0.0,\n",
       "  0.6333333333333333,\n",
       "  0.0,\n",
       "  0.0,\n",
       "  False,\n",
       "  True,\n",
       "  False,\n",
       "  False),\n",
       " ('/home/gabriel/Personal/Study/2021.1/TG/collected-projects/Android-CleanArchitecture.txt',\n",
       "  0.0,\n",
       "  0.782608695652174,\n",
       "  0.0,\n",
       "  0.0,\n",
       "  False,\n",
       "  True,\n",
       "  False,\n",
       "  False),\n",
       " ('/home/gabriel/Personal/Study/2021.1/TG/collected-projects/Android-ObservableScrollView.txt',\n",
       "  0.0,\n",
       "  0.8035714285714286,\n",
       "  0.0,\n",
       "  0.0,\n",
       "  False,\n",
       "  True,\n",
       "  False,\n",
       "  False)]"
      ]
     },
     "execution_count": 15,
     "metadata": {},
     "output_type": "execute_result"
    }
   ],
   "source": [
    "result_table[:3]"
   ]
  },
  {
   "cell_type": "code",
   "execution_count": 16,
   "metadata": {},
   "outputs": [
    {
     "data": {
      "text/html": [
       "<div>\n",
       "<style scoped>\n",
       "    .dataframe tbody tr th:only-of-type {\n",
       "        vertical-align: middle;\n",
       "    }\n",
       "\n",
       "    .dataframe tbody tr th {\n",
       "        vertical-align: top;\n",
       "    }\n",
       "\n",
       "    .dataframe thead th {\n",
       "        text-align: right;\n",
       "    }\n",
       "</style>\n",
       "<table border=\"1\" class=\"dataframe\">\n",
       "  <thead>\n",
       "    <tr style=\"text-align: right;\">\n",
       "      <th></th>\n",
       "      <th>filename</th>\n",
       "      <th>MVC</th>\n",
       "      <th>MVP</th>\n",
       "      <th>MVVM</th>\n",
       "      <th>MVI</th>\n",
       "      <th>MVC_VERDICT</th>\n",
       "      <th>MVP_VERDICT</th>\n",
       "      <th>MVVM_VERDICT</th>\n",
       "      <th>MVI_VERDICT</th>\n",
       "    </tr>\n",
       "  </thead>\n",
       "  <tbody>\n",
       "    <tr>\n",
       "      <th>0</th>\n",
       "      <td>/home/gabriel/Personal/Study/2021.1/TG/collect...</td>\n",
       "      <td>0.0</td>\n",
       "      <td>0.633333</td>\n",
       "      <td>0.0</td>\n",
       "      <td>0.0</td>\n",
       "      <td>False</td>\n",
       "      <td>True</td>\n",
       "      <td>False</td>\n",
       "      <td>False</td>\n",
       "    </tr>\n",
       "    <tr>\n",
       "      <th>1</th>\n",
       "      <td>/home/gabriel/Personal/Study/2021.1/TG/collect...</td>\n",
       "      <td>0.0</td>\n",
       "      <td>0.782609</td>\n",
       "      <td>0.0</td>\n",
       "      <td>0.0</td>\n",
       "      <td>False</td>\n",
       "      <td>True</td>\n",
       "      <td>False</td>\n",
       "      <td>False</td>\n",
       "    </tr>\n",
       "    <tr>\n",
       "      <th>2</th>\n",
       "      <td>/home/gabriel/Personal/Study/2021.1/TG/collect...</td>\n",
       "      <td>0.0</td>\n",
       "      <td>0.803571</td>\n",
       "      <td>0.0</td>\n",
       "      <td>0.0</td>\n",
       "      <td>False</td>\n",
       "      <td>True</td>\n",
       "      <td>False</td>\n",
       "      <td>False</td>\n",
       "    </tr>\n",
       "    <tr>\n",
       "      <th>3</th>\n",
       "      <td>/home/gabriel/Personal/Study/2021.1/TG/collect...</td>\n",
       "      <td>0.0</td>\n",
       "      <td>0.500000</td>\n",
       "      <td>0.0</td>\n",
       "      <td>0.0</td>\n",
       "      <td>False</td>\n",
       "      <td>False</td>\n",
       "      <td>False</td>\n",
       "      <td>False</td>\n",
       "    </tr>\n",
       "    <tr>\n",
       "      <th>4</th>\n",
       "      <td>/home/gabriel/Personal/Study/2021.1/TG/collect...</td>\n",
       "      <td>0.0</td>\n",
       "      <td>0.885714</td>\n",
       "      <td>0.0</td>\n",
       "      <td>0.0</td>\n",
       "      <td>False</td>\n",
       "      <td>True</td>\n",
       "      <td>False</td>\n",
       "      <td>False</td>\n",
       "    </tr>\n",
       "  </tbody>\n",
       "</table>\n",
       "</div>"
      ],
      "text/plain": [
       "                                            filename  MVC       MVP  MVVM  \\\n",
       "0  /home/gabriel/Personal/Study/2021.1/TG/collect...  0.0  0.633333   0.0   \n",
       "1  /home/gabriel/Personal/Study/2021.1/TG/collect...  0.0  0.782609   0.0   \n",
       "2  /home/gabriel/Personal/Study/2021.1/TG/collect...  0.0  0.803571   0.0   \n",
       "3  /home/gabriel/Personal/Study/2021.1/TG/collect...  0.0  0.500000   0.0   \n",
       "4  /home/gabriel/Personal/Study/2021.1/TG/collect...  0.0  0.885714   0.0   \n",
       "\n",
       "   MVI  MVC_VERDICT  MVP_VERDICT  MVVM_VERDICT  MVI_VERDICT  \n",
       "0  0.0        False         True         False        False  \n",
       "1  0.0        False         True         False        False  \n",
       "2  0.0        False         True         False        False  \n",
       "3  0.0        False        False         False        False  \n",
       "4  0.0        False         True         False        False  "
      ]
     },
     "execution_count": 16,
     "metadata": {},
     "output_type": "execute_result"
    }
   ],
   "source": [
    "result_df = pd.DataFrame(result_table, columns = [\n",
    "    'filename',\n",
    "    'MVC',\n",
    "    'MVP',\n",
    "    'MVVM',\n",
    "    'MVI',\n",
    "    'MVC_VERDICT',\n",
    "    'MVP_VERDICT',\n",
    "    'MVVM_VERDICT',\n",
    "    'MVI_VERDICT'\n",
    "])\n",
    "\n",
    "result_df.head()"
   ]
  },
  {
   "cell_type": "code",
   "execution_count": 17,
   "metadata": {},
   "outputs": [
    {
     "data": {
      "text/html": [
       "<div>\n",
       "<style scoped>\n",
       "    .dataframe tbody tr th:only-of-type {\n",
       "        vertical-align: middle;\n",
       "    }\n",
       "\n",
       "    .dataframe tbody tr th {\n",
       "        vertical-align: top;\n",
       "    }\n",
       "\n",
       "    .dataframe thead th {\n",
       "        text-align: right;\n",
       "    }\n",
       "</style>\n",
       "<table border=\"1\" class=\"dataframe\">\n",
       "  <thead>\n",
       "    <tr style=\"text-align: right;\">\n",
       "      <th></th>\n",
       "      <th>name</th>\n",
       "      <th>filename</th>\n",
       "    </tr>\n",
       "  </thead>\n",
       "  <tbody>\n",
       "    <tr>\n",
       "      <th>0</th>\n",
       "      <td>ARouter</td>\n",
       "      <td>/home/gabriel/Personal/Study/2021.1/TG/collect...</td>\n",
       "    </tr>\n",
       "    <tr>\n",
       "      <th>1</th>\n",
       "      <td>Android-CleanArchitecture</td>\n",
       "      <td>/home/gabriel/Personal/Study/2021.1/TG/collect...</td>\n",
       "    </tr>\n",
       "    <tr>\n",
       "      <th>2</th>\n",
       "      <td>Android-ObservableScrollView</td>\n",
       "      <td>/home/gabriel/Personal/Study/2021.1/TG/collect...</td>\n",
       "    </tr>\n",
       "    <tr>\n",
       "      <th>3</th>\n",
       "      <td>AndroidAutoSize</td>\n",
       "      <td>/home/gabriel/Personal/Study/2021.1/TG/collect...</td>\n",
       "    </tr>\n",
       "    <tr>\n",
       "      <th>4</th>\n",
       "      <td>AndroidUtilCode</td>\n",
       "      <td>/home/gabriel/Personal/Study/2021.1/TG/collect...</td>\n",
       "    </tr>\n",
       "  </tbody>\n",
       "</table>\n",
       "</div>"
      ],
      "text/plain": [
       "                           name  \\\n",
       "0                       ARouter   \n",
       "1     Android-CleanArchitecture   \n",
       "2  Android-ObservableScrollView   \n",
       "3               AndroidAutoSize   \n",
       "4               AndroidUtilCode   \n",
       "\n",
       "                                            filename  \n",
       "0  /home/gabriel/Personal/Study/2021.1/TG/collect...  \n",
       "1  /home/gabriel/Personal/Study/2021.1/TG/collect...  \n",
       "2  /home/gabriel/Personal/Study/2021.1/TG/collect...  \n",
       "3  /home/gabriel/Personal/Study/2021.1/TG/collect...  \n",
       "4  /home/gabriel/Personal/Study/2021.1/TG/collect...  "
      ]
     },
     "execution_count": 17,
     "metadata": {},
     "output_type": "execute_result"
    }
   ],
   "source": [
    "result_df['name'] = result_df['filename'].apply(lambda filename: re.search(r'([^/]+)\\.txt$', filename).group(1))\n",
    "\n",
    "result_df[['name', 'filename']].head()"
   ]
  },
  {
   "cell_type": "markdown",
   "metadata": {},
   "source": [
    "## Histogramas\n",
    "\n",
    "Aqui, plotar-se-ão histogramas dos valores limite para cada padrão arquitetural.\n",
    "\n",
    "Antes disso, exibe-se a quantidade de projetos para cada veredito para cada padrão arquitetural."
   ]
  },
  {
   "cell_type": "code",
   "execution_count": 18,
   "metadata": {},
   "outputs": [
    {
     "data": {
      "text/html": [
       "<div>\n",
       "<style scoped>\n",
       "    .dataframe tbody tr th:only-of-type {\n",
       "        vertical-align: middle;\n",
       "    }\n",
       "\n",
       "    .dataframe tbody tr th {\n",
       "        vertical-align: top;\n",
       "    }\n",
       "\n",
       "    .dataframe thead th {\n",
       "        text-align: right;\n",
       "    }\n",
       "</style>\n",
       "<table border=\"1\" class=\"dataframe\">\n",
       "  <thead>\n",
       "    <tr style=\"text-align: right;\">\n",
       "      <th></th>\n",
       "      <th>name</th>\n",
       "    </tr>\n",
       "    <tr>\n",
       "      <th>MVC_VERDICT</th>\n",
       "      <th></th>\n",
       "    </tr>\n",
       "  </thead>\n",
       "  <tbody>\n",
       "    <tr>\n",
       "      <th>False</th>\n",
       "      <td>41</td>\n",
       "    </tr>\n",
       "  </tbody>\n",
       "</table>\n",
       "</div>"
      ],
      "text/plain": [
       "             name\n",
       "MVC_VERDICT      \n",
       "False          41"
      ]
     },
     "execution_count": 18,
     "metadata": {},
     "output_type": "execute_result"
    }
   ],
   "source": [
    "def verdict_count_for_pattern_name(pattern_name):\n",
    "    return result_df[[f'{pattern_name}_VERDICT', 'name']].groupby(f'{pattern_name}_VERDICT').count()\n",
    "\n",
    "verdict_count_for_pattern_name('MVC')"
   ]
  },
  {
   "cell_type": "code",
   "execution_count": 19,
   "metadata": {},
   "outputs": [
    {
     "data": {
      "text/html": [
       "<div>\n",
       "<style scoped>\n",
       "    .dataframe tbody tr th:only-of-type {\n",
       "        vertical-align: middle;\n",
       "    }\n",
       "\n",
       "    .dataframe tbody tr th {\n",
       "        vertical-align: top;\n",
       "    }\n",
       "\n",
       "    .dataframe thead th {\n",
       "        text-align: right;\n",
       "    }\n",
       "</style>\n",
       "<table border=\"1\" class=\"dataframe\">\n",
       "  <thead>\n",
       "    <tr style=\"text-align: right;\">\n",
       "      <th></th>\n",
       "      <th>name</th>\n",
       "    </tr>\n",
       "    <tr>\n",
       "      <th>MVP_VERDICT</th>\n",
       "      <th></th>\n",
       "    </tr>\n",
       "  </thead>\n",
       "  <tbody>\n",
       "    <tr>\n",
       "      <th>False</th>\n",
       "      <td>6</td>\n",
       "    </tr>\n",
       "    <tr>\n",
       "      <th>True</th>\n",
       "      <td>35</td>\n",
       "    </tr>\n",
       "  </tbody>\n",
       "</table>\n",
       "</div>"
      ],
      "text/plain": [
       "             name\n",
       "MVP_VERDICT      \n",
       "False           6\n",
       "True           35"
      ]
     },
     "execution_count": 19,
     "metadata": {},
     "output_type": "execute_result"
    }
   ],
   "source": [
    "verdict_count_for_pattern_name('MVP')"
   ]
  },
  {
   "cell_type": "code",
   "execution_count": 20,
   "metadata": {},
   "outputs": [
    {
     "data": {
      "text/html": [
       "<div>\n",
       "<style scoped>\n",
       "    .dataframe tbody tr th:only-of-type {\n",
       "        vertical-align: middle;\n",
       "    }\n",
       "\n",
       "    .dataframe tbody tr th {\n",
       "        vertical-align: top;\n",
       "    }\n",
       "\n",
       "    .dataframe thead th {\n",
       "        text-align: right;\n",
       "    }\n",
       "</style>\n",
       "<table border=\"1\" class=\"dataframe\">\n",
       "  <thead>\n",
       "    <tr style=\"text-align: right;\">\n",
       "      <th></th>\n",
       "      <th>name</th>\n",
       "    </tr>\n",
       "    <tr>\n",
       "      <th>MVVM_VERDICT</th>\n",
       "      <th></th>\n",
       "    </tr>\n",
       "  </thead>\n",
       "  <tbody>\n",
       "    <tr>\n",
       "      <th>False</th>\n",
       "      <td>41</td>\n",
       "    </tr>\n",
       "  </tbody>\n",
       "</table>\n",
       "</div>"
      ],
      "text/plain": [
       "              name\n",
       "MVVM_VERDICT      \n",
       "False           41"
      ]
     },
     "execution_count": 20,
     "metadata": {},
     "output_type": "execute_result"
    }
   ],
   "source": [
    "verdict_count_for_pattern_name('MVVM')"
   ]
  },
  {
   "cell_type": "code",
   "execution_count": 21,
   "metadata": {},
   "outputs": [
    {
     "data": {
      "text/html": [
       "<div>\n",
       "<style scoped>\n",
       "    .dataframe tbody tr th:only-of-type {\n",
       "        vertical-align: middle;\n",
       "    }\n",
       "\n",
       "    .dataframe tbody tr th {\n",
       "        vertical-align: top;\n",
       "    }\n",
       "\n",
       "    .dataframe thead th {\n",
       "        text-align: right;\n",
       "    }\n",
       "</style>\n",
       "<table border=\"1\" class=\"dataframe\">\n",
       "  <thead>\n",
       "    <tr style=\"text-align: right;\">\n",
       "      <th></th>\n",
       "      <th>name</th>\n",
       "    </tr>\n",
       "    <tr>\n",
       "      <th>MVI_VERDICT</th>\n",
       "      <th></th>\n",
       "    </tr>\n",
       "  </thead>\n",
       "  <tbody>\n",
       "    <tr>\n",
       "      <th>False</th>\n",
       "      <td>37</td>\n",
       "    </tr>\n",
       "    <tr>\n",
       "      <th>True</th>\n",
       "      <td>4</td>\n",
       "    </tr>\n",
       "  </tbody>\n",
       "</table>\n",
       "</div>"
      ],
      "text/plain": [
       "             name\n",
       "MVI_VERDICT      \n",
       "False          37\n",
       "True            4"
      ]
     },
     "execution_count": 21,
     "metadata": {},
     "output_type": "execute_result"
    }
   ],
   "source": [
    "verdict_count_for_pattern_name('MVI')"
   ]
  },
  {
   "cell_type": "markdown",
   "metadata": {},
   "source": [
    "De acordo com a revisão dos _outputs_ de _debugging_ do detector de padrões, MVP é apresentado muito frequentemente, MVI somente duas vezes, enquanto os outros em nenhum dos projetos estudados. Há, também, projetos sem padrão definido."
   ]
  },
  {
   "cell_type": "code",
   "execution_count": 22,
   "metadata": {},
   "outputs": [
    {
     "data": {
      "text/html": [
       "<div>\n",
       "<style scoped>\n",
       "    .dataframe tbody tr th:only-of-type {\n",
       "        vertical-align: middle;\n",
       "    }\n",
       "\n",
       "    .dataframe tbody tr th {\n",
       "        vertical-align: top;\n",
       "    }\n",
       "\n",
       "    .dataframe thead th {\n",
       "        text-align: right;\n",
       "    }\n",
       "</style>\n",
       "<table border=\"1\" class=\"dataframe\">\n",
       "  <thead>\n",
       "    <tr style=\"text-align: right;\">\n",
       "      <th></th>\n",
       "      <th>MVC</th>\n",
       "      <th>MVP</th>\n",
       "      <th>MVVM</th>\n",
       "      <th>MVI</th>\n",
       "      <th>name</th>\n",
       "    </tr>\n",
       "  </thead>\n",
       "  <tbody>\n",
       "    <tr>\n",
       "      <th>3</th>\n",
       "      <td>0.0</td>\n",
       "      <td>0.500000</td>\n",
       "      <td>0.0</td>\n",
       "      <td>0.0</td>\n",
       "      <td>AndroidAutoSize</td>\n",
       "    </tr>\n",
       "    <tr>\n",
       "      <th>23</th>\n",
       "      <td>0.0</td>\n",
       "      <td>0.344538</td>\n",
       "      <td>0.0</td>\n",
       "      <td>0.0</td>\n",
       "      <td>androidannotations</td>\n",
       "    </tr>\n",
       "    <tr>\n",
       "      <th>27</th>\n",
       "      <td>0.0</td>\n",
       "      <td>0.592593</td>\n",
       "      <td>0.0</td>\n",
       "      <td>0.0</td>\n",
       "      <td>flutter</td>\n",
       "    </tr>\n",
       "    <tr>\n",
       "      <th>29</th>\n",
       "      <td>0.0</td>\n",
       "      <td>0.000000</td>\n",
       "      <td>0.0</td>\n",
       "      <td>0.0</td>\n",
       "      <td>joplin</td>\n",
       "    </tr>\n",
       "    <tr>\n",
       "      <th>30</th>\n",
       "      <td>0.0</td>\n",
       "      <td>0.500000</td>\n",
       "      <td>0.0</td>\n",
       "      <td>0.0</td>\n",
       "      <td>logger</td>\n",
       "    </tr>\n",
       "    <tr>\n",
       "      <th>39</th>\n",
       "      <td>0.0</td>\n",
       "      <td>0.666667</td>\n",
       "      <td>0.0</td>\n",
       "      <td>0.0</td>\n",
       "      <td>xbmc</td>\n",
       "    </tr>\n",
       "  </tbody>\n",
       "</table>\n",
       "</div>"
      ],
      "text/plain": [
       "    MVC       MVP  MVVM  MVI                name\n",
       "3   0.0  0.500000   0.0  0.0     AndroidAutoSize\n",
       "23  0.0  0.344538   0.0  0.0  androidannotations\n",
       "27  0.0  0.592593   0.0  0.0             flutter\n",
       "29  0.0  0.000000   0.0  0.0              joplin\n",
       "30  0.0  0.500000   0.0  0.0              logger\n",
       "39  0.0  0.666667   0.0  0.0                xbmc"
      ]
     },
     "execution_count": 22,
     "metadata": {},
     "output_type": "execute_result"
    }
   ],
   "source": [
    "result_df[\n",
    "    ~result_df['MVC_VERDICT'] &\n",
    "    ~result_df['MVP_VERDICT'] &\n",
    "    ~result_df['MVVM_VERDICT'] &\n",
    "    ~result_df['MVI_VERDICT']\n",
    "][['MVC', 'MVP', 'MVVM', 'MVI', 'name']]"
   ]
  },
  {
   "cell_type": "markdown",
   "metadata": {},
   "source": [
    "E estes são os histogramas:"
   ]
  },
  {
   "cell_type": "code",
   "execution_count": 23,
   "metadata": {},
   "outputs": [
    {
     "name": "stdout",
     "output_type": "stream",
     "text": [
      "WARNING: pip is being invoked by an old script wrapper. This will fail in a future version of pip.\n",
      "Please see https://github.com/pypa/pip/issues/5599 for advice on fixing the underlying issue.\n",
      "To avoid this problem you can invoke Python with '-m pip' instead of running pip directly.\n",
      "Requirement already satisfied: matplotlib in /home/gabriel/snap/jupyter/common/lib/python3.7/site-packages (3.5.1)\n",
      "Requirement already satisfied: numpy>=1.17 in /home/gabriel/snap/jupyter/common/lib/python3.7/site-packages (from matplotlib) (1.21.5)\n",
      "Requirement already satisfied: pillow>=6.2.0 in /home/gabriel/snap/jupyter/common/lib/python3.7/site-packages (from matplotlib) (9.1.0)\n",
      "Requirement already satisfied: pyparsing>=2.2.1 in /home/gabriel/snap/jupyter/common/lib/python3.7/site-packages (from matplotlib) (3.0.7)\n",
      "Requirement already satisfied: kiwisolver>=1.0.1 in /home/gabriel/snap/jupyter/common/lib/python3.7/site-packages (from matplotlib) (1.4.2)\n",
      "Requirement already satisfied: python-dateutil>=2.7 in /snap/jupyter/6/lib/python3.7/site-packages (from matplotlib) (2.8.0)\n",
      "Requirement already satisfied: packaging>=20.0 in /home/gabriel/snap/jupyter/common/lib/python3.7/site-packages (from matplotlib) (21.3)\n",
      "Requirement already satisfied: fonttools>=4.22.0 in /home/gabriel/snap/jupyter/common/lib/python3.7/site-packages (from matplotlib) (4.32.0)\n",
      "Requirement already satisfied: cycler>=0.10 in /home/gabriel/snap/jupyter/common/lib/python3.7/site-packages (from matplotlib) (0.11.0)\n",
      "Requirement already satisfied: typing-extensions in /home/gabriel/snap/jupyter/common/lib/python3.7/site-packages (from kiwisolver>=1.0.1->matplotlib) (4.1.1)\n",
      "Requirement already satisfied: six>=1.5 in /snap/jupyter/6/lib/python3.7/site-packages (from python-dateutil>=2.7->matplotlib) (1.12.0)\n"
     ]
    }
   ],
   "source": [
    "!pip install matplotlib"
   ]
  },
  {
   "cell_type": "code",
   "execution_count": 24,
   "metadata": {},
   "outputs": [
    {
     "data": {
      "text/plain": [
       "[]"
      ]
     },
     "execution_count": 24,
     "metadata": {},
     "output_type": "execute_result"
    }
   ],
   "source": [
    "def histogram_for_pattern_and_verdict(df, pattern_name, verdict = True):\n",
    "    threshold_column_name = pattern_name\n",
    "    verdict_column_name = f'{pattern_name}_VERDICT'\n",
    "    \n",
    "    return df[df[verdict_column_name] == verdict][threshold_column_name].hist()\n",
    "\n",
    "histogram_for_pattern_and_verdict(result_df, 'MVC', verdict = False).plot()"
   ]
  },
  {
   "cell_type": "markdown",
   "metadata": {},
   "source": [
    "Não houve nenhum projeto julgado como MVC, sendo que a maioria deles não apresenta grande valores de limite de veredito. Há um entre eles, porém, que apresenta um valor acima de 0.5. Segue o que indica o _output_ do arquivo de _debug_ do detector de padrões."
   ]
  },
  {
   "cell_type": "code",
   "execution_count": 25,
   "metadata": {},
   "outputs": [
    {
     "data": {
      "text/html": [
       "<div>\n",
       "<style scoped>\n",
       "    .dataframe tbody tr th:only-of-type {\n",
       "        vertical-align: middle;\n",
       "    }\n",
       "\n",
       "    .dataframe tbody tr th {\n",
       "        vertical-align: top;\n",
       "    }\n",
       "\n",
       "    .dataframe thead th {\n",
       "        text-align: right;\n",
       "    }\n",
       "</style>\n",
       "<table border=\"1\" class=\"dataframe\">\n",
       "  <thead>\n",
       "    <tr style=\"text-align: right;\">\n",
       "      <th></th>\n",
       "      <th>name</th>\n",
       "      <th>MVC</th>\n",
       "    </tr>\n",
       "  </thead>\n",
       "  <tbody>\n",
       "    <tr>\n",
       "      <th>20</th>\n",
       "      <td>QMUI_Android</td>\n",
       "      <td>0.550000</td>\n",
       "    </tr>\n",
       "    <tr>\n",
       "      <th>25</th>\n",
       "      <td>easypermissions</td>\n",
       "      <td>0.285714</td>\n",
       "    </tr>\n",
       "    <tr>\n",
       "      <th>10</th>\n",
       "      <td>FileDownloader</td>\n",
       "      <td>0.222222</td>\n",
       "    </tr>\n",
       "    <tr>\n",
       "      <th>18</th>\n",
       "      <td>NewPipe</td>\n",
       "      <td>0.090909</td>\n",
       "    </tr>\n",
       "    <tr>\n",
       "      <th>31</th>\n",
       "      <td>material-components-android</td>\n",
       "      <td>0.046512</td>\n",
       "    </tr>\n",
       "  </tbody>\n",
       "</table>\n",
       "</div>"
      ],
      "text/plain": [
       "                           name       MVC\n",
       "20                 QMUI_Android  0.550000\n",
       "25              easypermissions  0.285714\n",
       "10               FileDownloader  0.222222\n",
       "18                      NewPipe  0.090909\n",
       "31  material-components-android  0.046512"
      ]
     },
     "execution_count": 25,
     "metadata": {},
     "output_type": "execute_result"
    }
   ],
   "source": [
    "def name_and_pattern_ordered_by_threshold(df, pattern_name, verdict = False):\n",
    "    return df[df[f'{pattern_name}_VERDICT'] == verdict][['name', pattern_name]].sort_values(by = pattern_name, ascending = False)\n",
    "\n",
    "name_and_pattern_ordered_by_threshold(result_df, 'MVC').head()"
   ]
  },
  {
   "cell_type": "code",
   "execution_count": 26,
   "metadata": {
    "scrolled": true
   },
   "outputs": [
    {
     "name": "stdout",
     "output_type": "stream",
     "text": [
      "MVP\r\n",
      "MVC: MVC Trio prefixes are []\r\n",
      "MVC: Controller file count is 4\r\n",
      "MVC: Found controller types are [HomeLabController, HomeUtilController, HomeComponentsController, HomeController]\r\n",
      "MVC: Controller type mention count is 7\r\n",
      "MVP: Callback method count for QMUIActivity.java is 9\r\n",
      "MVP: Callback method count for QMUIFragmentActivity.java is 5\r\n",
      "MVP: Callback method count for InnerBaseActivity.java is 7\r\n",
      "MVP: Callback method count for BaseFragmentActivity.java is 0\r\n",
      "MVP: Callback method count for BaseActivity.java is 2\r\n",
      "MVP: Callback method count for TranslucentActivity.java is 4\r\n",
      "MVP: Callback method count for ArchTestActivity.java is 3\r\n",
      "MVP: Callback method count for TestArchInViewPagerActivity.java is 1\r\n",
      "MVP: Callback method count for QDMainActivity.java is 14\r\n",
      "MVP: Total callback method count is 45\r\n",
      "MVP: Presenter file count is 0\r\n",
      "MVP: Found presenter types are []\r\n",
      "MVP: Presenter class mention count is 0\r\n",
      "MVVM: Data binding count is 0\r\n",
      "MVVM: ViewModel file count is 0\r\n",
      "MVVM: Found ViewModel types are [QMUIFragmentEffectRegistry]\r\n",
      "MVVM: ViewModel type mention count is 1\r\n",
      "MVI: rxJavaImportCount is 0\r\n",
      "MVC: 0.55, MVP: 0.8333333333333334, MVVM: 0.1, MVI: 0.0\r\n"
     ]
    }
   ],
   "source": [
    "!cat /home/gabriel/Personal/Study/2021.1/TG/collected-projects/QMUI_Android.txt"
   ]
  },
  {
   "cell_type": "markdown",
   "metadata": {},
   "source": [
    "Pode-se ver que há tipos Controller, bem como algumas menções a eles. Porém, há também um arquivo ViewModel, o que pode mostrar um nível não tão grande de comprometimento com determinado padrão arquitetural. Sendo assim, dado um número mais relevante de métodos callback, a escolha de MVP como veredito final parece fazer mais sentido."
   ]
  },
  {
   "cell_type": "code",
   "execution_count": 27,
   "metadata": {},
   "outputs": [
    {
     "data": {
      "text/plain": [
       "[]"
      ]
     },
     "execution_count": 27,
     "metadata": {},
     "output_type": "execute_result"
    },
    {
     "data": {
      "image/png": "[encoded data removed]",
      "text/plain": [
       "<Figure size 432x288 with 1 Axes>"
      ]
     },
     "metadata": {
      "needs_background": "light"
     },
     "output_type": "display_data"
    }
   ],
   "source": [
    "histogram_for_pattern_and_verdict(result_df, 'MVP', verdict = False).plot()"
   ]
  },
  {
   "cell_type": "markdown",
   "metadata": {},
   "source": [
    "Enquanto, para os que tiveram a classificação de MVP rejeitada, a distribuição tende a valores maiores do que os de MVC, a verdade é que os valores limites não são grandezas comparáveis, devido a utilizarem quantificações diferentes. Para determinar-se se certo ponto de divisão é bom para se classificar projetos como pertencentes a certo padrão ou não, deve-se comparar os valores obtidos, para ele, isoladamente.\n",
    "\n",
    "Segue o histograma dos classificados positivamente como MVP:"
   ]
  },
  {
   "cell_type": "code",
   "execution_count": 28,
   "metadata": {},
   "outputs": [
    {
     "data": {
      "text/plain": [
       "[]"
      ]
     },
     "execution_count": 28,
     "metadata": {},
     "output_type": "execute_result"
    },
    {
     "data": {
      "image/png": "[encoded data removed]",
      "text/plain": [
       "<Figure size 432x288 with 1 Axes>"
      ]
     },
     "metadata": {
      "needs_background": "light"
     },
     "output_type": "display_data"
    }
   ],
   "source": [
    "histogram_for_pattern_and_verdict(result_df, 'MVP', verdict = True).plot()"
   ]
  },
  {
   "cell_type": "markdown",
   "metadata": {},
   "source": [
    "Enquanto, de fato, há alguns que sejam compatíveis com MVP, e que tenham valor limite abaixo de 0.7, são poucos. Pode-se afirmar que esse valor é um bom divisor para determinar-se, tomando-se em conta exclusivamente o resultado numérico, se um projeto utiliza MVP ou não.\n",
    "\n",
    "Em seguida, exibe-se o histograma dos valores para MVVM:"
   ]
  },
  {
   "cell_type": "code",
   "execution_count": 29,
   "metadata": {},
   "outputs": [
    {
     "data": {
      "text/plain": [
       "[]"
      ]
     },
     "execution_count": 29,
     "metadata": {},
     "output_type": "execute_result"
    },
    {
     "data": {
      "image/png": "[encoded data removed]",
      "text/plain": [
       "<Figure size 432x288 with 1 Axes>"
      ]
     },
     "metadata": {
      "needs_background": "light"
     },
     "output_type": "display_data"
    }
   ],
   "source": [
    "histogram_for_pattern_and_verdict(result_df, 'MVVM', verdict = False).plot()"
   ]
  },
  {
   "cell_type": "code",
   "execution_count": 30,
   "metadata": {},
   "outputs": [
    {
     "data": {
      "text/html": [
       "<div>\n",
       "<style scoped>\n",
       "    .dataframe tbody tr th:only-of-type {\n",
       "        vertical-align: middle;\n",
       "    }\n",
       "\n",
       "    .dataframe tbody tr th {\n",
       "        vertical-align: top;\n",
       "    }\n",
       "\n",
       "    .dataframe thead th {\n",
       "        text-align: right;\n",
       "    }\n",
       "</style>\n",
       "<table border=\"1\" class=\"dataframe\">\n",
       "  <thead>\n",
       "    <tr style=\"text-align: right;\">\n",
       "      <th></th>\n",
       "      <th>name</th>\n",
       "      <th>MVVM</th>\n",
       "    </tr>\n",
       "  </thead>\n",
       "  <tbody>\n",
       "    <tr>\n",
       "      <th>34</th>\n",
       "      <td>realm-java</td>\n",
       "      <td>0.318182</td>\n",
       "    </tr>\n",
       "    <tr>\n",
       "      <th>37</th>\n",
       "      <td>wcdb</td>\n",
       "      <td>0.285714</td>\n",
       "    </tr>\n",
       "    <tr>\n",
       "      <th>20</th>\n",
       "      <td>QMUI_Android</td>\n",
       "      <td>0.100000</td>\n",
       "    </tr>\n",
       "    <tr>\n",
       "      <th>6</th>\n",
       "      <td>BaseRecyclerViewAdapterHelper</td>\n",
       "      <td>0.047619</td>\n",
       "    </tr>\n",
       "    <tr>\n",
       "      <th>30</th>\n",
       "      <td>logger</td>\n",
       "      <td>0.000000</td>\n",
       "    </tr>\n",
       "  </tbody>\n",
       "</table>\n",
       "</div>"
      ],
      "text/plain": [
       "                             name      MVVM\n",
       "34                     realm-java  0.318182\n",
       "37                           wcdb  0.285714\n",
       "20                   QMUI_Android  0.100000\n",
       "6   BaseRecyclerViewAdapterHelper  0.047619\n",
       "30                         logger  0.000000"
      ]
     },
     "execution_count": 30,
     "metadata": {},
     "output_type": "execute_result"
    }
   ],
   "source": [
    "name_and_pattern_ordered_by_threshold(result_df, 'MVVM', verdict = False).head()"
   ]
  },
  {
   "cell_type": "markdown",
   "metadata": {},
   "source": [
    "Este é o resultado demonstrado pelo detector de padrões:"
   ]
  },
  {
   "cell_type": "code",
   "execution_count": 31,
   "metadata": {},
   "outputs": [
    {
     "name": "stdout",
     "output_type": "stream",
     "text": [
      "MVP, MVI\r\n",
      "MVC: MVC Trio prefixes are []\r\n",
      "MVC: Controller file count is 0\r\n",
      "MVC: Found controller types are []\r\n",
      "MVC: Controller type mention count is 0\r\n",
      "MVP: Callback method count for MigrationExampleActivity.java is 1\r\n",
      "MVP: Callback method count for ExampleActivity.java is 4\r\n",
      "MVP: Callback method count for MainActivity.java is 4\r\n",
      "MVP: Callback method count for ReceivingActivity.java is 2\r\n",
      "MVP: Callback method count for ThreadExampleActivity.java is 6\r\n",
      "MVP: Callback method count for JsonExampleActivity.java is 2\r\n",
      "MVP: Callback method count for ModulesExampleActivity.java is 1\r\n",
      "MVP: Callback method count for IntroExampleActivity.java is 4\r\n",
      "MVP: Callback method count for EncryptionExampleActivity.java is 2\r\n",
      "MVP: Callback method count for ArchExampleActivity.java is 5\r\n",
      "MVP: Callback method count for GridViewExampleActivity.java is 4\r\n",
      "MVP: Callback method count for MainActivity.java is 2\r\n",
      "MVP: Callback method count for AnimationActivity.java is 4\r\n",
      "MVP: Callback method count for GotchasActivity.java is 4\r\n",
      "MVP: Callback method count for ThrottleSearchActivity.java is 4\r\n",
      "MVP: Total callback method count is 49\r\n",
      "MVP: Presenter file count is 0\r\n",
      "MVP: Found presenter types are []\r\n",
      "MVP: Presenter class mention count is 0\r\n",
      "MVVM: Data binding count is 0\r\n",
      "MVVM: ViewModel file count is 3\r\n",
      "MVVM: Found ViewModel types are [PersonViewModel, PersonListViewModel, UserViewModel]\r\n",
      "MVVM: ViewModel type mention count is 4\r\n",
      "MVI: rxJavaImportCount is 10\r\n",
      "MVC: 0.0, MVP: 0.765625, MVVM: 0.3181818181818182, MVI: 0.4\r\n"
     ]
    }
   ],
   "source": [
    "!cat /home/gabriel/Personal/Study/2021.1/TG/collected-projects/realm-java.txt"
   ]
  },
  {
   "cell_type": "markdown",
   "metadata": {},
   "source": [
    "Considera-se pequenas as quantidades de tipos ViewModel e menções a eles, além de não haver _databinding_. É mais notável o uso de métodos _callback_, o que toma-se por caracterizar um uso predominante de MVP.\n",
    "\n",
    "Em seguida, encontra-se o histograma para o padrão MVI."
   ]
  },
  {
   "cell_type": "code",
   "execution_count": 32,
   "metadata": {},
   "outputs": [
    {
     "data": {
      "text/plain": [
       "[]"
      ]
     },
     "execution_count": 32,
     "metadata": {},
     "output_type": "execute_result"
    },
    {
     "data": {
      "image/png": "[encoded data removed]",
      "text/plain": [
       "<Figure size 432x288 with 1 Axes>"
      ]
     },
     "metadata": {
      "needs_background": "light"
     },
     "output_type": "display_data"
    }
   ],
   "source": [
    "histogram_for_pattern_and_verdict(result_df, 'MVI', verdict = True).plot()"
   ]
  },
  {
   "cell_type": "markdown",
   "metadata": {},
   "source": []
  },
  {
   "cell_type": "code",
   "execution_count": 33,
   "metadata": {},
   "outputs": [
    {
     "data": {
      "text/html": [
       "<div>\n",
       "<style scoped>\n",
       "    .dataframe tbody tr th:only-of-type {\n",
       "        vertical-align: middle;\n",
       "    }\n",
       "\n",
       "    .dataframe tbody tr th {\n",
       "        vertical-align: top;\n",
       "    }\n",
       "\n",
       "    .dataframe thead th {\n",
       "        text-align: right;\n",
       "    }\n",
       "</style>\n",
       "<table border=\"1\" class=\"dataframe\">\n",
       "  <thead>\n",
       "    <tr style=\"text-align: right;\">\n",
       "      <th></th>\n",
       "      <th>name</th>\n",
       "      <th>MVI</th>\n",
       "    </tr>\n",
       "  </thead>\n",
       "  <tbody>\n",
       "    <tr>\n",
       "      <th>0</th>\n",
       "      <td>ARouter</td>\n",
       "      <td>0.0</td>\n",
       "    </tr>\n",
       "    <tr>\n",
       "      <th>22</th>\n",
       "      <td>VirtualXposed</td>\n",
       "      <td>0.0</td>\n",
       "    </tr>\n",
       "    <tr>\n",
       "      <th>24</th>\n",
       "      <td>cocos2d-x</td>\n",
       "      <td>0.0</td>\n",
       "    </tr>\n",
       "    <tr>\n",
       "      <th>25</th>\n",
       "      <td>easypermissions</td>\n",
       "      <td>0.0</td>\n",
       "    </tr>\n",
       "    <tr>\n",
       "      <th>26</th>\n",
       "      <td>fastlane</td>\n",
       "      <td>0.0</td>\n",
       "    </tr>\n",
       "  </tbody>\n",
       "</table>\n",
       "</div>"
      ],
      "text/plain": [
       "               name  MVI\n",
       "0           ARouter  0.0\n",
       "22    VirtualXposed  0.0\n",
       "24        cocos2d-x  0.0\n",
       "25  easypermissions  0.0\n",
       "26         fastlane  0.0"
      ]
     },
     "execution_count": 33,
     "metadata": {},
     "output_type": "execute_result"
    }
   ],
   "source": [
    "name_and_pattern_ordered_by_threshold(result_df, 'MVI', verdict = False).head()"
   ]
  },
  {
   "cell_type": "markdown",
   "metadata": {},
   "source": [
    "Todos os projetos que apresentaram indícios para MVI demonstraram, de fato, incorporar o padrão arquitetural. Esse uso foi comprovado pela leitura do código, e constatação da chamada de métodos pertencentes à biblioteca."
   ]
  }
 ],
 "metadata": {
  "kernelspec": {
   "display_name": "Python 3",
   "language": "python",
   "name": "python3"
  },
  "language_info": {
   "codemirror_mode": {
    "name": "ipython",
    "version": 3
   },
   "file_extension": ".py",
   "mimetype": "text/x-python",
   "name": "python",
   "nbconvert_exporter": "python",
   "pygments_lexer": "ipython3",
   "version": "3.7.3"
  }
 },
 "nbformat": 4,
 "nbformat_minor": 2
}
