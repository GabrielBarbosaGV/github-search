{
 "cells": [
  {
   "cell_type": "markdown",
   "metadata": {},
   "source": [
    "# Breve análise dos resultados obtidos\n",
    "\n",
    "Neste notebook, são computados as média e mediana dos projetos coletados, dados os valores resultantes da detecção de padrões."
   ]
  },
  {
   "cell_type": "code",
   "execution_count": 7,
   "metadata": {},
   "outputs": [],
   "source": [
    "collected_projects_dir = '/home/gabriel/Personal/Study/2021.1/TG/collected-projects'"
   ]
  },
  {
   "cell_type": "code",
   "execution_count": 11,
   "metadata": {},
   "outputs": [
    {
     "data": {
      "text/plain": [
       "['/home/gabriel/Personal/Study/2021.1/TG/collected-projects/*']"
      ]
     },
     "execution_count": 11,
     "metadata": {},
     "output_type": "execute_result"
    }
   ],
   "source": [
    "projects_pattern = f'{collected_projects_dir}/*/'\n",
    "\n",
    "dirnames = !echo $projects_pattern\n",
    "\n",
    "dirnames = dirnames[0].split(' ')\n",
    "dirnames = [dirname[:-1] for dirname in dirnames] # Removendo barra restante de cada nome de diretório\n",
    "\n",
    "dirnames"
   ]
  }
 ],
 "metadata": {
  "kernelspec": {
   "display_name": "Python 3",
   "language": "python",
   "name": "python3"
  },
  "language_info": {
   "codemirror_mode": {
    "name": "ipython",
    "version": 3
   },
   "file_extension": ".py",
   "mimetype": "text/x-python",
   "name": "python",
   "nbconvert_exporter": "python",
   "pygments_lexer": "ipython3",
   "version": "3.7.3"
  }
 },
 "nbformat": 4,
 "nbformat_minor": 2
}
