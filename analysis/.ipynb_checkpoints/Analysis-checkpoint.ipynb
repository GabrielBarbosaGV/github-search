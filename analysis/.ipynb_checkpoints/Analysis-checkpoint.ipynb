{
 "cells": [
  {
   "cell_type": "markdown",
   "metadata": {},
   "source": [
    "# Breve análise dos resultados obtidos\n",
    "\n",
    "Neste notebook, são plotados histogramas para as distribuições de média ponderada de asserções para os projetos coletados."
   ]
  },
  {
   "cell_type": "code",
   "execution_count": 1,
   "metadata": {},
   "outputs": [],
   "source": [
    "collected_projects_dir = '/home/gabriel/Personal/Study/2021.1/TG/collected-projects'"
   ]
  },
  {
   "cell_type": "code",
   "execution_count": 2,
   "metadata": {},
   "outputs": [
    {
     "data": {
      "text/plain": [
       "['ARouter',\n",
       " 'Android-CleanArchitecture',\n",
       " 'Android-ObservableScrollView',\n",
       " 'AndroidAutoSize',\n",
       " 'AndroidUtilCode',\n",
       " 'Auto.js',\n",
       " 'BaseRecyclerViewAdapterHelper',\n",
       " 'Detox',\n",
       " 'DoraemonKit',\n",
       " 'ExoPlayer',\n",
       " 'FileDownloader',\n",
       " 'GSYVideoPlayer',\n",
       " 'ImmersionBar',\n",
       " 'MMKV',\n",
       " 'MPAndroidChart',\n",
       " 'MVPArms',\n",
       " 'MaterialDesignLibrary',\n",
       " 'Matisse',\n",
       " 'NewPipe',\n",
       " 'PermissionsDispatcher',\n",
       " 'PictureSelector',\n",
       " 'QMUI_Android',\n",
       " 'SmartRefreshLayout',\n",
       " 'VirtualXposed',\n",
       " 'androidannotations',\n",
       " 'cocos2d-x',\n",
       " 'easypermissions',\n",
       " 'fastlane',\n",
       " 'flutter',\n",
       " 'glide',\n",
       " 'ijkplayer',\n",
       " 'joplin',\n",
       " 'libgdx',\n",
       " 'logger',\n",
       " 'material-components-android',\n",
       " 'matrix',\n",
       " 'mediapipe',\n",
       " 'realm-java',\n",
       " 'scrcpy',\n",
       " 'termux-app',\n",
       " 'uCrop',\n",
       " 'vlayout',\n",
       " 'wcdb',\n",
       " 'weex',\n",
       " 'xbmc',\n",
       " 'zxing']"
      ]
     },
     "execution_count": 2,
     "metadata": {},
     "output_type": "execute_result"
    }
   ],
   "source": [
    "projects_pattern = f'{collected_projects_dir}/*/'\n",
    "\n",
    "dirnames = !echo $projects_pattern\n",
    "\n",
    "dirnames = dirnames[0].split(' ')\n",
    "dirnames = [dirname[:-1] for dirname in dirnames] # Removendo barra restante de cada nome de diretório\n",
    "\n",
    "[dirname.split('/')[-1] for dirname in dirnames]"
   ]
  },
  {
   "cell_type": "code",
   "execution_count": 3,
   "metadata": {},
   "outputs": [
    {
     "data": {
      "text/plain": [
       "46"
      ]
     },
     "execution_count": 3,
     "metadata": {},
     "output_type": "execute_result"
    }
   ],
   "source": [
    "len(dirnames)"
   ]
  },
  {
   "cell_type": "code",
   "execution_count": 4,
   "metadata": {},
   "outputs": [],
   "source": [
    "text_results_files = [f'{dirname}.txt' for dirname in dirnames]"
   ]
  },
  {
   "cell_type": "code",
   "execution_count": 5,
   "metadata": {},
   "outputs": [],
   "source": [
    "# As únicas coleções de linhas consideráveis são aquelas para as quais não houve erros\n",
    "# e que não ouve resultados NaN, que indicam uma quantidade zero de arquivos Activity.java.\n",
    "# Enquanto há restrições na busca para que projetos sem arquivos Activity.java sejam selecionados,\n",
    "# ainda é possível que essa situação ocorra pela presença de arquivos cujos nomes apresentem a\n",
    "# mesma sequências de letras, como quaisquer que obedeçam a expressão regular\n",
    "# .*A.*c.*t.*i.*v.*i.*t.*.y.*\\..*j.*a.*v.*a.*\n",
    "def is_elligible(lines):\n",
    "    prohibited_elements = [\n",
    "        '!! ERROR !!',\n",
    "        'NaN'\n",
    "    ]\n",
    "    \n",
    "    return not any(any(elem in line for elem in prohibited_elements) for line in lines)\n",
    "\n",
    "def lines_from_filename(filename):\n",
    "    with open(filename, 'r') as f:\n",
    "        return f.readlines()"
   ]
  },
  {
   "cell_type": "code",
   "execution_count": 6,
   "metadata": {},
   "outputs": [],
   "source": [
    "line_lists = map(lines_from_filename, text_results_files)\n",
    "\n",
    "filenames_and_lines = zip(text_results_files, line_lists)\n",
    "\n",
    "elligible_ones = [p for p in filenames_and_lines if is_elligible(p[1])]\n",
    "\n",
    "elligible_line_lists = [lines for filename, lines in elligible_ones]\n",
    "\n",
    "elligible_text_results_files = [filename for filename, lines in elligible_ones]\n",
    "\n",
    "result_strings = [lines[-1] for lines in elligible_line_lists]\n",
    "verdict_strings = [lines[0] for lines in elligible_line_lists]"
   ]
  },
  {
   "cell_type": "code",
   "execution_count": 7,
   "metadata": {},
   "outputs": [],
   "source": [
    "pattern_names = { 'MVC', 'MVP', 'MVVM', 'MVI' }"
   ]
  },
  {
   "cell_type": "code",
   "execution_count": 8,
   "metadata": {},
   "outputs": [],
   "source": [
    "import re"
   ]
  },
  {
   "cell_type": "code",
   "execution_count": 9,
   "metadata": {},
   "outputs": [],
   "source": [
    "def check_pattern_name(pattern_name):\n",
    "    if pattern_name not in pattern_names:\n",
    "        raise Exception(f'Error: given pattern, \"{pattern_name}\", is not one of \"MVC\", \"MVP\", \"MVVM\", or \"MVI\"')\n",
    "\n",
    "def verdict_for_pattern_name(pattern_name, text):\n",
    "    check_pattern_name(pattern_name)\n",
    "    \n",
    "    return pattern_name in text\n",
    "\n",
    "def value_for_pattern_name(pattern_name, text):\n",
    "    check_pattern_name(pattern_name)\n",
    "    \n",
    "    match = re.search(f'{pattern_name}' r': (\\d*.\\d*)', text)\n",
    "    \n",
    "    return float(match.group(1))"
   ]
  },
  {
   "cell_type": "code",
   "execution_count": 10,
   "metadata": {},
   "outputs": [],
   "source": [
    "results_per_pattern = {\n",
    "    pattern_name : [value_for_pattern_name(pattern_name, result_string) for result_string in result_strings]\n",
    "    for pattern_name\n",
    "    in pattern_names\n",
    "}"
   ]
  },
  {
   "cell_type": "code",
   "execution_count": 11,
   "metadata": {},
   "outputs": [],
   "source": [
    "verdicts_per_pattern = {\n",
    "    pattern_name : [verdict_for_pattern_name(pattern_name, verdict_string) for verdict_string in verdict_strings]\n",
    "    for pattern_name\n",
    "    in pattern_names\n",
    "}"
   ]
  },
  {
   "cell_type": "code",
   "execution_count": 12,
   "metadata": {},
   "outputs": [
    {
     "name": "stdout",
     "output_type": "stream",
     "text": [
      "WARNING: pip is being invoked by an old script wrapper. This will fail in a future version of pip.\n",
      "Please see https://github.com/pypa/pip/issues/5599 for advice on fixing the underlying issue.\n",
      "To avoid this problem you can invoke Python with '-m pip' instead of running pip directly.\n",
      "Requirement already satisfied: pandas in /home/gabriel/snap/jupyter/common/lib/python3.7/site-packages (1.3.5)\n",
      "Requirement already satisfied: python-dateutil>=2.7.3 in /snap/jupyter/6/lib/python3.7/site-packages (from pandas) (2.8.0)\n",
      "Requirement already satisfied: pytz>=2017.3 in /home/gabriel/snap/jupyter/common/lib/python3.7/site-packages (from pandas) (2022.1)\n",
      "Requirement already satisfied: numpy>=1.17.3 in /home/gabriel/snap/jupyter/common/lib/python3.7/site-packages (from pandas) (1.21.5)\n",
      "Requirement already satisfied: six>=1.5 in /snap/jupyter/6/lib/python3.7/site-packages (from python-dateutil>=2.7.3->pandas) (1.12.0)\n"
     ]
    }
   ],
   "source": [
    "!pip install pandas"
   ]
  },
  {
   "cell_type": "code",
   "execution_count": 13,
   "metadata": {},
   "outputs": [],
   "source": [
    "import pandas as pd"
   ]
  },
  {
   "cell_type": "code",
   "execution_count": 14,
   "metadata": {},
   "outputs": [],
   "source": [
    "ordered_pattern_names = ['MVC', 'MVP', 'MVVM', 'MVI']\n",
    "\n",
    "result_lists = [results_per_pattern[pattern_name] for pattern_name in ordered_pattern_names]\n",
    "verdict_lists = [verdicts_per_pattern[pattern_name] for pattern_name in ordered_pattern_names]\n",
    "\n",
    "result_table_transposed = [elligible_text_results_files, *result_lists, *verdict_lists]\n",
    "\n",
    "result_table = list(zip(*result_table_transposed))"
   ]
  },
  {
   "cell_type": "code",
   "execution_count": 15,
   "metadata": {},
   "outputs": [
    {
     "data": {
      "text/plain": [
       "[('/home/gabriel/Personal/Study/2021.1/TG/collected-projects/ARouter.txt',\n",
       "  0.0,\n",
       "  0.0,\n",
       "  0.0,\n",
       "  0.0,\n",
       "  False,\n",
       "  False,\n",
       "  False,\n",
       "  False),\n",
       " ('/home/gabriel/Personal/Study/2021.1/TG/collected-projects/Android-CleanArchitecture.txt',\n",
       "  0.0,\n",
       "  0.5,\n",
       "  0.0,\n",
       "  0.0,\n",
       "  False,\n",
       "  True,\n",
       "  False,\n",
       "  False),\n",
       " ('/home/gabriel/Personal/Study/2021.1/TG/collected-projects/Android-ObservableScrollView.txt',\n",
       "  0.0,\n",
       "  0.0,\n",
       "  0.0,\n",
       "  0.0,\n",
       "  False,\n",
       "  False,\n",
       "  False,\n",
       "  False)]"
      ]
     },
     "execution_count": 15,
     "metadata": {},
     "output_type": "execute_result"
    }
   ],
   "source": [
    "result_table[:3]"
   ]
  },
  {
   "cell_type": "code",
   "execution_count": 16,
   "metadata": {},
   "outputs": [
    {
     "data": {
      "text/html": [
       "<div>\n",
       "<style scoped>\n",
       "    .dataframe tbody tr th:only-of-type {\n",
       "        vertical-align: middle;\n",
       "    }\n",
       "\n",
       "    .dataframe tbody tr th {\n",
       "        vertical-align: top;\n",
       "    }\n",
       "\n",
       "    .dataframe thead th {\n",
       "        text-align: right;\n",
       "    }\n",
       "</style>\n",
       "<table border=\"1\" class=\"dataframe\">\n",
       "  <thead>\n",
       "    <tr style=\"text-align: right;\">\n",
       "      <th></th>\n",
       "      <th>filename</th>\n",
       "      <th>MVC</th>\n",
       "      <th>MVP</th>\n",
       "      <th>MVVM</th>\n",
       "      <th>MVI</th>\n",
       "      <th>MVC_VERDICT</th>\n",
       "      <th>MVP_VERDICT</th>\n",
       "      <th>MVVM_VERDICT</th>\n",
       "      <th>MVI_VERDICT</th>\n",
       "    </tr>\n",
       "  </thead>\n",
       "  <tbody>\n",
       "    <tr>\n",
       "      <th>0</th>\n",
       "      <td>/home/gabriel/Personal/Study/2021.1/TG/collect...</td>\n",
       "      <td>0.0</td>\n",
       "      <td>0.000000</td>\n",
       "      <td>0.0</td>\n",
       "      <td>0.0</td>\n",
       "      <td>False</td>\n",
       "      <td>False</td>\n",
       "      <td>False</td>\n",
       "      <td>False</td>\n",
       "    </tr>\n",
       "    <tr>\n",
       "      <th>1</th>\n",
       "      <td>/home/gabriel/Personal/Study/2021.1/TG/collect...</td>\n",
       "      <td>0.0</td>\n",
       "      <td>0.500000</td>\n",
       "      <td>0.0</td>\n",
       "      <td>0.0</td>\n",
       "      <td>False</td>\n",
       "      <td>True</td>\n",
       "      <td>False</td>\n",
       "      <td>False</td>\n",
       "    </tr>\n",
       "    <tr>\n",
       "      <th>2</th>\n",
       "      <td>/home/gabriel/Personal/Study/2021.1/TG/collect...</td>\n",
       "      <td>0.0</td>\n",
       "      <td>0.000000</td>\n",
       "      <td>0.0</td>\n",
       "      <td>0.0</td>\n",
       "      <td>False</td>\n",
       "      <td>False</td>\n",
       "      <td>False</td>\n",
       "      <td>False</td>\n",
       "    </tr>\n",
       "    <tr>\n",
       "      <th>3</th>\n",
       "      <td>/home/gabriel/Personal/Study/2021.1/TG/collect...</td>\n",
       "      <td>0.0</td>\n",
       "      <td>0.000000</td>\n",
       "      <td>0.0</td>\n",
       "      <td>0.0</td>\n",
       "      <td>False</td>\n",
       "      <td>False</td>\n",
       "      <td>False</td>\n",
       "      <td>False</td>\n",
       "    </tr>\n",
       "    <tr>\n",
       "      <th>4</th>\n",
       "      <td>/home/gabriel/Personal/Study/2021.1/TG/collect...</td>\n",
       "      <td>0.0</td>\n",
       "      <td>0.428571</td>\n",
       "      <td>0.0</td>\n",
       "      <td>0.0</td>\n",
       "      <td>False</td>\n",
       "      <td>True</td>\n",
       "      <td>False</td>\n",
       "      <td>False</td>\n",
       "    </tr>\n",
       "  </tbody>\n",
       "</table>\n",
       "</div>"
      ],
      "text/plain": [
       "                                            filename  MVC       MVP  MVVM  \\\n",
       "0  /home/gabriel/Personal/Study/2021.1/TG/collect...  0.0  0.000000   0.0   \n",
       "1  /home/gabriel/Personal/Study/2021.1/TG/collect...  0.0  0.500000   0.0   \n",
       "2  /home/gabriel/Personal/Study/2021.1/TG/collect...  0.0  0.000000   0.0   \n",
       "3  /home/gabriel/Personal/Study/2021.1/TG/collect...  0.0  0.000000   0.0   \n",
       "4  /home/gabriel/Personal/Study/2021.1/TG/collect...  0.0  0.428571   0.0   \n",
       "\n",
       "   MVI  MVC_VERDICT  MVP_VERDICT  MVVM_VERDICT  MVI_VERDICT  \n",
       "0  0.0        False        False         False        False  \n",
       "1  0.0        False         True         False        False  \n",
       "2  0.0        False        False         False        False  \n",
       "3  0.0        False        False         False        False  \n",
       "4  0.0        False         True         False        False  "
      ]
     },
     "execution_count": 16,
     "metadata": {},
     "output_type": "execute_result"
    }
   ],
   "source": [
    "result_df = pd.DataFrame(result_table, columns = [\n",
    "    'filename',\n",
    "    'MVC',\n",
    "    'MVP',\n",
    "    'MVVM',\n",
    "    'MVI',\n",
    "    'MVC_VERDICT',\n",
    "    'MVP_VERDICT',\n",
    "    'MVVM_VERDICT',\n",
    "    'MVI_VERDICT'\n",
    "])\n",
    "\n",
    "result_df.head()"
   ]
  },
  {
   "cell_type": "code",
   "execution_count": 17,
   "metadata": {},
   "outputs": [
    {
     "data": {
      "text/html": [
       "<div>\n",
       "<style scoped>\n",
       "    .dataframe tbody tr th:only-of-type {\n",
       "        vertical-align: middle;\n",
       "    }\n",
       "\n",
       "    .dataframe tbody tr th {\n",
       "        vertical-align: top;\n",
       "    }\n",
       "\n",
       "    .dataframe thead th {\n",
       "        text-align: right;\n",
       "    }\n",
       "</style>\n",
       "<table border=\"1\" class=\"dataframe\">\n",
       "  <thead>\n",
       "    <tr style=\"text-align: right;\">\n",
       "      <th></th>\n",
       "      <th>name</th>\n",
       "      <th>filename</th>\n",
       "    </tr>\n",
       "  </thead>\n",
       "  <tbody>\n",
       "    <tr>\n",
       "      <th>0</th>\n",
       "      <td>ARouter</td>\n",
       "      <td>/home/gabriel/Personal/Study/2021.1/TG/collect...</td>\n",
       "    </tr>\n",
       "    <tr>\n",
       "      <th>1</th>\n",
       "      <td>Android-CleanArchitecture</td>\n",
       "      <td>/home/gabriel/Personal/Study/2021.1/TG/collect...</td>\n",
       "    </tr>\n",
       "    <tr>\n",
       "      <th>2</th>\n",
       "      <td>Android-ObservableScrollView</td>\n",
       "      <td>/home/gabriel/Personal/Study/2021.1/TG/collect...</td>\n",
       "    </tr>\n",
       "    <tr>\n",
       "      <th>3</th>\n",
       "      <td>AndroidAutoSize</td>\n",
       "      <td>/home/gabriel/Personal/Study/2021.1/TG/collect...</td>\n",
       "    </tr>\n",
       "    <tr>\n",
       "      <th>4</th>\n",
       "      <td>AndroidUtilCode</td>\n",
       "      <td>/home/gabriel/Personal/Study/2021.1/TG/collect...</td>\n",
       "    </tr>\n",
       "  </tbody>\n",
       "</table>\n",
       "</div>"
      ],
      "text/plain": [
       "                           name  \\\n",
       "0                       ARouter   \n",
       "1     Android-CleanArchitecture   \n",
       "2  Android-ObservableScrollView   \n",
       "3               AndroidAutoSize   \n",
       "4               AndroidUtilCode   \n",
       "\n",
       "                                            filename  \n",
       "0  /home/gabriel/Personal/Study/2021.1/TG/collect...  \n",
       "1  /home/gabriel/Personal/Study/2021.1/TG/collect...  \n",
       "2  /home/gabriel/Personal/Study/2021.1/TG/collect...  \n",
       "3  /home/gabriel/Personal/Study/2021.1/TG/collect...  \n",
       "4  /home/gabriel/Personal/Study/2021.1/TG/collect...  "
      ]
     },
     "execution_count": 17,
     "metadata": {},
     "output_type": "execute_result"
    }
   ],
   "source": [
    "result_df['name'] = result_df['filename'].apply(lambda filename: re.search(r'([^/]+)\\.txt$', filename).group(1))\n",
    "\n",
    "result_df[['name', 'filename']].head()"
   ]
  },
  {
   "cell_type": "code",
   "execution_count": 18,
   "metadata": {},
   "outputs": [],
   "source": [
    "def repo_name_for_name(name):\n",
    "    r = !grep $name /home/gabriel/Personal/Study/2021.1/TG/repo_names.txt | tr -d '\"'\n",
    "    \n",
    "    return r[0]"
   ]
  },
  {
   "cell_type": "code",
   "execution_count": 19,
   "metadata": {},
   "outputs": [
    {
     "data": {
      "text/html": [
       "<div>\n",
       "<style scoped>\n",
       "    .dataframe tbody tr th:only-of-type {\n",
       "        vertical-align: middle;\n",
       "    }\n",
       "\n",
       "    .dataframe tbody tr th {\n",
       "        vertical-align: top;\n",
       "    }\n",
       "\n",
       "    .dataframe thead th {\n",
       "        text-align: right;\n",
       "    }\n",
       "</style>\n",
       "<table border=\"1\" class=\"dataframe\">\n",
       "  <thead>\n",
       "    <tr style=\"text-align: right;\">\n",
       "      <th></th>\n",
       "      <th>name</th>\n",
       "      <th>repo</th>\n",
       "    </tr>\n",
       "  </thead>\n",
       "  <tbody>\n",
       "    <tr>\n",
       "      <th>0</th>\n",
       "      <td>ARouter</td>\n",
       "      <td>alibaba/ARouter</td>\n",
       "    </tr>\n",
       "    <tr>\n",
       "      <th>1</th>\n",
       "      <td>Android-CleanArchitecture</td>\n",
       "      <td>android10/Android-CleanArchitecture</td>\n",
       "    </tr>\n",
       "    <tr>\n",
       "      <th>2</th>\n",
       "      <td>Android-ObservableScrollView</td>\n",
       "      <td>ksoichiro/Android-ObservableScrollView</td>\n",
       "    </tr>\n",
       "    <tr>\n",
       "      <th>3</th>\n",
       "      <td>AndroidAutoSize</td>\n",
       "      <td>JessYanCoding/AndroidAutoSize</td>\n",
       "    </tr>\n",
       "    <tr>\n",
       "      <th>4</th>\n",
       "      <td>AndroidUtilCode</td>\n",
       "      <td>Blankj/AndroidUtilCode</td>\n",
       "    </tr>\n",
       "  </tbody>\n",
       "</table>\n",
       "</div>"
      ],
      "text/plain": [
       "                           name                                    repo\n",
       "0                       ARouter                         alibaba/ARouter\n",
       "1     Android-CleanArchitecture     android10/Android-CleanArchitecture\n",
       "2  Android-ObservableScrollView  ksoichiro/Android-ObservableScrollView\n",
       "3               AndroidAutoSize           JessYanCoding/AndroidAutoSize\n",
       "4               AndroidUtilCode                  Blankj/AndroidUtilCode"
      ]
     },
     "execution_count": 19,
     "metadata": {},
     "output_type": "execute_result"
    }
   ],
   "source": [
    "all_names = '\\n'.join(list(result_df['name']))\n",
    "\n",
    "result_df['repo'] = result_df['name'].apply(repo_name_for_name)\n",
    "\n",
    "result_df[['name', 'repo']].head()"
   ]
  },
  {
   "cell_type": "markdown",
   "metadata": {},
   "source": [
    "## Histogramas\n",
    "\n",
    "Aqui, plotar-se-ão histogramas dos valores limite para cada padrão arquitetural.\n",
    "\n",
    "Antes disso, exibe-se a quantidade de projetos para cada veredito para cada padrão arquitetural."
   ]
  },
  {
   "cell_type": "code",
   "execution_count": 20,
   "metadata": {},
   "outputs": [
    {
     "data": {
      "text/html": [
       "<div>\n",
       "<style scoped>\n",
       "    .dataframe tbody tr th:only-of-type {\n",
       "        vertical-align: middle;\n",
       "    }\n",
       "\n",
       "    .dataframe tbody tr th {\n",
       "        vertical-align: top;\n",
       "    }\n",
       "\n",
       "    .dataframe thead th {\n",
       "        text-align: right;\n",
       "    }\n",
       "</style>\n",
       "<table border=\"1\" class=\"dataframe\">\n",
       "  <thead>\n",
       "    <tr style=\"text-align: right;\">\n",
       "      <th></th>\n",
       "      <th>name</th>\n",
       "    </tr>\n",
       "    <tr>\n",
       "      <th>MVC_VERDICT</th>\n",
       "      <th></th>\n",
       "    </tr>\n",
       "  </thead>\n",
       "  <tbody>\n",
       "    <tr>\n",
       "      <th>False</th>\n",
       "      <td>40</td>\n",
       "    </tr>\n",
       "    <tr>\n",
       "      <th>True</th>\n",
       "      <td>2</td>\n",
       "    </tr>\n",
       "  </tbody>\n",
       "</table>\n",
       "</div>"
      ],
      "text/plain": [
       "             name\n",
       "MVC_VERDICT      \n",
       "False          40\n",
       "True            2"
      ]
     },
     "execution_count": 20,
     "metadata": {},
     "output_type": "execute_result"
    }
   ],
   "source": [
    "def verdict_count_for_pattern_name(pattern_name):\n",
    "    return result_df[[f'{pattern_name}_VERDICT', 'name']].groupby(f'{pattern_name}_VERDICT').count()\n",
    "\n",
    "verdict_count_for_pattern_name('MVC')"
   ]
  },
  {
   "cell_type": "code",
   "execution_count": 21,
   "metadata": {},
   "outputs": [
    {
     "data": {
      "text/html": [
       "<div>\n",
       "<style scoped>\n",
       "    .dataframe tbody tr th:only-of-type {\n",
       "        vertical-align: middle;\n",
       "    }\n",
       "\n",
       "    .dataframe tbody tr th {\n",
       "        vertical-align: top;\n",
       "    }\n",
       "\n",
       "    .dataframe thead th {\n",
       "        text-align: right;\n",
       "    }\n",
       "</style>\n",
       "<table border=\"1\" class=\"dataframe\">\n",
       "  <thead>\n",
       "    <tr style=\"text-align: right;\">\n",
       "      <th></th>\n",
       "      <th>name</th>\n",
       "    </tr>\n",
       "    <tr>\n",
       "      <th>MVP_VERDICT</th>\n",
       "      <th></th>\n",
       "    </tr>\n",
       "  </thead>\n",
       "  <tbody>\n",
       "    <tr>\n",
       "      <th>False</th>\n",
       "      <td>37</td>\n",
       "    </tr>\n",
       "    <tr>\n",
       "      <th>True</th>\n",
       "      <td>5</td>\n",
       "    </tr>\n",
       "  </tbody>\n",
       "</table>\n",
       "</div>"
      ],
      "text/plain": [
       "             name\n",
       "MVP_VERDICT      \n",
       "False          37\n",
       "True            5"
      ]
     },
     "execution_count": 21,
     "metadata": {},
     "output_type": "execute_result"
    }
   ],
   "source": [
    "verdict_count_for_pattern_name('MVP')"
   ]
  },
  {
   "cell_type": "code",
   "execution_count": 22,
   "metadata": {},
   "outputs": [
    {
     "data": {
      "text/html": [
       "<div>\n",
       "<style scoped>\n",
       "    .dataframe tbody tr th:only-of-type {\n",
       "        vertical-align: middle;\n",
       "    }\n",
       "\n",
       "    .dataframe tbody tr th {\n",
       "        vertical-align: top;\n",
       "    }\n",
       "\n",
       "    .dataframe thead th {\n",
       "        text-align: right;\n",
       "    }\n",
       "</style>\n",
       "<table border=\"1\" class=\"dataframe\">\n",
       "  <thead>\n",
       "    <tr style=\"text-align: right;\">\n",
       "      <th></th>\n",
       "      <th>name</th>\n",
       "    </tr>\n",
       "    <tr>\n",
       "      <th>MVVM_VERDICT</th>\n",
       "      <th></th>\n",
       "    </tr>\n",
       "  </thead>\n",
       "  <tbody>\n",
       "    <tr>\n",
       "      <th>False</th>\n",
       "      <td>40</td>\n",
       "    </tr>\n",
       "    <tr>\n",
       "      <th>True</th>\n",
       "      <td>2</td>\n",
       "    </tr>\n",
       "  </tbody>\n",
       "</table>\n",
       "</div>"
      ],
      "text/plain": [
       "              name\n",
       "MVVM_VERDICT      \n",
       "False           40\n",
       "True             2"
      ]
     },
     "execution_count": 22,
     "metadata": {},
     "output_type": "execute_result"
    }
   ],
   "source": [
    "verdict_count_for_pattern_name('MVVM')"
   ]
  },
  {
   "cell_type": "code",
   "execution_count": 23,
   "metadata": {},
   "outputs": [
    {
     "data": {
      "text/html": [
       "<div>\n",
       "<style scoped>\n",
       "    .dataframe tbody tr th:only-of-type {\n",
       "        vertical-align: middle;\n",
       "    }\n",
       "\n",
       "    .dataframe tbody tr th {\n",
       "        vertical-align: top;\n",
       "    }\n",
       "\n",
       "    .dataframe thead th {\n",
       "        text-align: right;\n",
       "    }\n",
       "</style>\n",
       "<table border=\"1\" class=\"dataframe\">\n",
       "  <thead>\n",
       "    <tr style=\"text-align: right;\">\n",
       "      <th></th>\n",
       "      <th>name</th>\n",
       "    </tr>\n",
       "    <tr>\n",
       "      <th>MVI_VERDICT</th>\n",
       "      <th></th>\n",
       "    </tr>\n",
       "  </thead>\n",
       "  <tbody>\n",
       "    <tr>\n",
       "      <th>False</th>\n",
       "      <td>38</td>\n",
       "    </tr>\n",
       "    <tr>\n",
       "      <th>True</th>\n",
       "      <td>4</td>\n",
       "    </tr>\n",
       "  </tbody>\n",
       "</table>\n",
       "</div>"
      ],
      "text/plain": [
       "             name\n",
       "MVI_VERDICT      \n",
       "False          38\n",
       "True            4"
      ]
     },
     "execution_count": 23,
     "metadata": {},
     "output_type": "execute_result"
    }
   ],
   "source": [
    "verdict_count_for_pattern_name('MVI')"
   ]
  },
  {
   "cell_type": "markdown",
   "metadata": {},
   "source": [
    "A maioria dos projetos não apresentou, da perspectiva do detector de padrões, sinais claros de uso de algum padrão,"
   ]
  },
  {
   "cell_type": "code",
   "execution_count": 24,
   "metadata": {},
   "outputs": [
    {
     "name": "stdout",
     "output_type": "stream",
     "text": [
      "WARNING: pip is being invoked by an old script wrapper. This will fail in a future version of pip.\n",
      "Please see https://github.com/pypa/pip/issues/5599 for advice on fixing the underlying issue.\n",
      "To avoid this problem you can invoke Python with '-m pip' instead of running pip directly.\n",
      "Requirement already satisfied: matplotlib in /home/gabriel/snap/jupyter/common/lib/python3.7/site-packages (3.5.1)\n",
      "Requirement already satisfied: cycler>=0.10 in /home/gabriel/snap/jupyter/common/lib/python3.7/site-packages (from matplotlib) (0.11.0)\n",
      "Requirement already satisfied: pillow>=6.2.0 in /home/gabriel/snap/jupyter/common/lib/python3.7/site-packages (from matplotlib) (9.1.0)\n",
      "Requirement already satisfied: fonttools>=4.22.0 in /home/gabriel/snap/jupyter/common/lib/python3.7/site-packages (from matplotlib) (4.32.0)\n",
      "Requirement already satisfied: numpy>=1.17 in /home/gabriel/snap/jupyter/common/lib/python3.7/site-packages (from matplotlib) (1.21.5)\n",
      "Requirement already satisfied: pyparsing>=2.2.1 in /home/gabriel/snap/jupyter/common/lib/python3.7/site-packages (from matplotlib) (3.0.7)\n",
      "Requirement already satisfied: packaging>=20.0 in /home/gabriel/snap/jupyter/common/lib/python3.7/site-packages (from matplotlib) (21.3)\n",
      "Requirement already satisfied: python-dateutil>=2.7 in /snap/jupyter/6/lib/python3.7/site-packages (from matplotlib) (2.8.0)\n",
      "Requirement already satisfied: kiwisolver>=1.0.1 in /home/gabriel/snap/jupyter/common/lib/python3.7/site-packages (from matplotlib) (1.4.2)\n",
      "Requirement already satisfied: typing-extensions in /home/gabriel/snap/jupyter/common/lib/python3.7/site-packages (from kiwisolver>=1.0.1->matplotlib) (4.1.1)\n",
      "Requirement already satisfied: six>=1.5 in /snap/jupyter/6/lib/python3.7/site-packages (from python-dateutil>=2.7->matplotlib) (1.12.0)\n"
     ]
    }
   ],
   "source": [
    "!pip install matplotlib\n",
    "\n",
    "%matplotlib inline"
   ]
  },
  {
   "cell_type": "code",
   "execution_count": 25,
   "metadata": {},
   "outputs": [],
   "source": [
    "def histogram_for_pattern_and_verdict(df, pattern_name=None, verdict=True):\n",
    "    threshold_column_name = pattern_name\n",
    "    verdict_column_name = f'{pattern_name}_VERDICT'\n",
    "    \n",
    "    return df[df[verdict_column_name] == verdict][threshold_column_name].hist()"
   ]
  },
  {
   "cell_type": "code",
   "execution_count": 26,
   "metadata": {
    "scrolled": true
   },
   "outputs": [
    {
     "data": {
      "text/plain": [
       "[]"
      ]
     },
     "execution_count": 26,
     "metadata": {},
     "output_type": "execute_result"
    },
    {
     "data": {
      "image/png": "[encoded data removed]",
      "text/plain": [
       "<Figure size 432x288 with 1 Axes>"
      ]
     },
     "metadata": {
      "needs_background": "light"
     },
     "output_type": "display_data"
    }
   ],
   "source": [
    "histogram_for_pattern_and_verdict(result_df, pattern_name='MVC', verdict=True).plot()"
   ]
  },
  {
   "cell_type": "code",
   "execution_count": 27,
   "metadata": {},
   "outputs": [
    {
     "data": {
      "text/plain": [
       "[]"
      ]
     },
     "execution_count": 27,
     "metadata": {},
     "output_type": "execute_result"
    },
    {
     "data": {
      "image/png": "[encoded data removed]",
      "text/plain": [
       "<Figure size 432x288 with 1 Axes>"
      ]
     },
     "metadata": {
      "needs_background": "light"
     },
     "output_type": "display_data"
    }
   ],
   "source": [
    "histogram_for_pattern_and_verdict(result_df, pattern_name='MVC', verdict=False).plot()"
   ]
  },
  {
   "cell_type": "markdown",
   "metadata": {},
   "source": [
    "Há dois projetos com valores maiores do que o de menor valor tido como MVC. Há, inclusive, um de valor maior do que o maior dos tidos como MVC."
   ]
  },
  {
   "cell_type": "code",
   "execution_count": 28,
   "metadata": {},
   "outputs": [],
   "source": [
    "def df_ordered_by_pattern_value_for_verdict(df, ascending=False, pattern_name=None, verdict=False):\n",
    "    return df.sort_values(by=pattern_name, ascending=ascending)[df[f'{pattern_name}_VERDICT'] == verdict]"
   ]
  },
  {
   "cell_type": "code",
   "execution_count": 29,
   "metadata": {},
   "outputs": [],
   "source": [
    "def top_for_pattern_for_verdict(df, pattern_name=None, verdict=False):\n",
    "    return df_ordered_by_pattern_value_for_verdict(\n",
    "        df,\n",
    "        pattern_name=pattern_name,\n",
    "        verdict=verdict\n",
    "    )[[pattern_name, 'name']].head()"
   ]
  },
  {
   "cell_type": "code",
   "execution_count": 30,
   "metadata": {},
   "outputs": [
    {
     "name": "stderr",
     "output_type": "stream",
     "text": [
      "/snap/jupyter/6/lib/python3.7/site-packages/ipykernel_launcher.py:2: UserWarning: Boolean Series key will be reindexed to match DataFrame index.\n",
      "  \n"
     ]
    },
    {
     "data": {
      "text/html": [
       "<div>\n",
       "<style scoped>\n",
       "    .dataframe tbody tr th:only-of-type {\n",
       "        vertical-align: middle;\n",
       "    }\n",
       "\n",
       "    .dataframe tbody tr th {\n",
       "        vertical-align: top;\n",
       "    }\n",
       "\n",
       "    .dataframe thead th {\n",
       "        text-align: right;\n",
       "    }\n",
       "</style>\n",
       "<table border=\"1\" class=\"dataframe\">\n",
       "  <thead>\n",
       "    <tr style=\"text-align: right;\">\n",
       "      <th></th>\n",
       "      <th>MVC</th>\n",
       "      <th>name</th>\n",
       "    </tr>\n",
       "  </thead>\n",
       "  <tbody>\n",
       "    <tr>\n",
       "      <th>30</th>\n",
       "      <td>0.900000</td>\n",
       "      <td>libgdx</td>\n",
       "    </tr>\n",
       "    <tr>\n",
       "      <th>25</th>\n",
       "      <td>0.285714</td>\n",
       "      <td>easypermissions</td>\n",
       "    </tr>\n",
       "    <tr>\n",
       "      <th>18</th>\n",
       "      <td>0.090909</td>\n",
       "      <td>NewPipe</td>\n",
       "    </tr>\n",
       "    <tr>\n",
       "      <th>32</th>\n",
       "      <td>0.046512</td>\n",
       "      <td>material-components-android</td>\n",
       "    </tr>\n",
       "    <tr>\n",
       "      <th>5</th>\n",
       "      <td>0.030303</td>\n",
       "      <td>Auto.js</td>\n",
       "    </tr>\n",
       "  </tbody>\n",
       "</table>\n",
       "</div>"
      ],
      "text/plain": [
       "         MVC                         name\n",
       "30  0.900000                       libgdx\n",
       "25  0.285714              easypermissions\n",
       "18  0.090909                      NewPipe\n",
       "32  0.046512  material-components-android\n",
       "5   0.030303                      Auto.js"
      ]
     },
     "execution_count": 30,
     "metadata": {},
     "output_type": "execute_result"
    }
   ],
   "source": [
    "top_for_pattern_for_verdict(result_df, pattern_name='MVC')"
   ]
  },
  {
   "cell_type": "markdown",
   "metadata": {},
   "source": [
    "Abaixo está o output do detector para o projeto libgdx"
   ]
  },
  {
   "cell_type": "code",
   "execution_count": 31,
   "metadata": {},
   "outputs": [],
   "source": [
    "def filename_for_df_name(df, name):\n",
    "    return df[df['name'] == name]['filename'].item()"
   ]
  },
  {
   "cell_type": "code",
   "execution_count": 32,
   "metadata": {},
   "outputs": [
    {
     "name": "stdout",
     "output_type": "stream",
     "text": [
      "\r\n",
      "MVC: MVC Trio prefixes are []\r\n",
      "MVC: Controller file count is 9\r\n",
      "MVC: Found controller types are [ParticleController, FirstPersonCameraController, AnimationController, BaseAnimationController, CameraInputController, OrthoCamController, btKinematicCharacterController, IOSUIViewController, CameraController, PerspectiveCamController, OrthoCamController]\r\n",
      "MVC: Controller type mention count is 0\r\n",
      "MVP: Presenter file count is 0\r\n",
      "MVP: Found presenter types are []\r\n",
      "MVP: Presenter class mention count is 0\r\n",
      "MVVM: Data binding count is 0\r\n",
      "MVVM: ViewModel file count is 0\r\n",
      "MVVM: Found ViewModel types are []\r\n",
      "MVVM: ViewModel type mention count is 0\r\n",
      "MVI: rxJavaImportCount is 0\r\n",
      "Comentário:\r\n",
      "Apesar da prevalência de tipos Controller, estes têm papel diferente da concepção típica, por tratarem de Controllers de\r\n",
      "dados de um ambiente tridimensional. Nesse caso, a medição automática final não representa bem a real situação.\r\n",
      "MVC: 0.9, MVP: 0.0, MVVM: 0.0, MVI: 0.0\r\n"
     ]
    }
   ],
   "source": [
    "filename_libgdx = filename_for_df_name(result_df, 'libgdx')\n",
    "\n",
    "!cat $filename_libgdx"
   ]
  },
  {
   "cell_type": "markdown",
   "metadata": {},
   "source": [
    "Como posto no comentário do resultado, o valor encontrado para este projeto se dá pela prevalência de arquivos possuidores de _Controller_ ao fim de seus nomes. Acontece que, para este projeto, esses _Controllers_ não são do padrão arquitetural MVC, mas são gerenciadores de dados de um ambiente 3D.\n",
    "\n",
    "Abaixo está o output para o projeto easypermissions."
   ]
  },
  {
   "cell_type": "code",
   "execution_count": 33,
   "metadata": {},
   "outputs": [
    {
     "name": "stdout",
     "output_type": "stream",
     "text": [
      "\r\n",
      "MVC: MVC Trio prefixes are []\r\n",
      "MVC: Controller file count is 2\r\n",
      "MVC: Found controller types are [FragmentController, ActivityController]\r\n",
      "MVC: Controller type mention count is 0\r\n",
      "MVP: Presenter file count is 0\r\n",
      "MVP: Found presenter types are []\r\n",
      "MVP: Presenter class mention count is 0\r\n",
      "MVVM: Data binding count is 0\r\n",
      "MVVM: ViewModel file count is 0\r\n",
      "MVVM: Found ViewModel types are []\r\n",
      "MVVM: ViewModel type mention count is 0\r\n",
      "MVI: rxJavaImportCount is 0\r\n",
      "Comentário:\r\n",
      "Apesar de ter arquivos com nomes terminados em Controller, estes não parecem tratar das relações de Views com Controllers\r\n",
      "MVC: 0.2857142857142857, MVP: 0.0, MVVM: 0.0, MVI: 0.0\r\n"
     ]
    }
   ],
   "source": [
    "filename_easypermissions = filename_for_df_name(result_df, 'easypermissions')\n",
    "\n",
    "!cat $filename_easypermissions"
   ]
  },
  {
   "cell_type": "markdown",
   "metadata": {},
   "source": [
    "Apesar da presença de arquivos _Controller_, estes não demonstraram exercer as suas funções esperadas, após analisados.\n",
    "\n",
    "A seguir, está o histograma para os projetos que considera-se usar MVP."
   ]
  },
  {
   "cell_type": "code",
   "execution_count": 34,
   "metadata": {},
   "outputs": [
    {
     "data": {
      "text/plain": [
       "[]"
      ]
     },
     "execution_count": 34,
     "metadata": {},
     "output_type": "execute_result"
    },
    {
     "data": {
      "image/png": "[encoded data removed]",
      "text/plain": [
       "<Figure size 432x288 with 1 Axes>"
      ]
     },
     "metadata": {
      "needs_background": "light"
     },
     "output_type": "display_data"
    }
   ],
   "source": [
    "histogram_for_pattern_and_verdict(result_df, pattern_name='MVP', verdict=True).plot()"
   ]
  },
  {
   "cell_type": "code",
   "execution_count": 35,
   "metadata": {},
   "outputs": [
    {
     "data": {
      "text/plain": [
       "[]"
      ]
     },
     "execution_count": 35,
     "metadata": {},
     "output_type": "execute_result"
    },
    {
     "data": {
      "image/png": "[encoded data removed]",
      "text/plain": [
       "<Figure size 432x288 with 1 Axes>"
      ]
     },
     "metadata": {
      "needs_background": "light"
     },
     "output_type": "display_data"
    }
   ],
   "source": [
    "histogram_for_pattern_and_verdict(result_df, pattern_name='MVP', verdict=False).plot()"
   ]
  },
  {
   "cell_type": "code",
   "execution_count": 36,
   "metadata": {},
   "outputs": [
    {
     "name": "stderr",
     "output_type": "stream",
     "text": [
      "/snap/jupyter/6/lib/python3.7/site-packages/ipykernel_launcher.py:2: UserWarning: Boolean Series key will be reindexed to match DataFrame index.\n",
      "  \n"
     ]
    },
    {
     "data": {
      "text/html": [
       "<div>\n",
       "<style scoped>\n",
       "    .dataframe tbody tr th:only-of-type {\n",
       "        vertical-align: middle;\n",
       "    }\n",
       "\n",
       "    .dataframe tbody tr th {\n",
       "        vertical-align: top;\n",
       "    }\n",
       "\n",
       "    .dataframe thead th {\n",
       "        text-align: right;\n",
       "    }\n",
       "</style>\n",
       "<table border=\"1\" class=\"dataframe\">\n",
       "  <thead>\n",
       "    <tr style=\"text-align: right;\">\n",
       "      <th></th>\n",
       "      <th>MVP</th>\n",
       "      <th>name</th>\n",
       "    </tr>\n",
       "  </thead>\n",
       "  <tbody>\n",
       "    <tr>\n",
       "      <th>22</th>\n",
       "      <td>0.045455</td>\n",
       "      <td>VirtualXposed</td>\n",
       "    </tr>\n",
       "    <tr>\n",
       "      <th>31</th>\n",
       "      <td>0.000000</td>\n",
       "      <td>logger</td>\n",
       "    </tr>\n",
       "    <tr>\n",
       "      <th>25</th>\n",
       "      <td>0.000000</td>\n",
       "      <td>easypermissions</td>\n",
       "    </tr>\n",
       "    <tr>\n",
       "      <th>26</th>\n",
       "      <td>0.000000</td>\n",
       "      <td>fastlane</td>\n",
       "    </tr>\n",
       "    <tr>\n",
       "      <th>27</th>\n",
       "      <td>0.000000</td>\n",
       "      <td>flutter</td>\n",
       "    </tr>\n",
       "  </tbody>\n",
       "</table>\n",
       "</div>"
      ],
      "text/plain": [
       "         MVP             name\n",
       "22  0.045455    VirtualXposed\n",
       "31  0.000000           logger\n",
       "25  0.000000  easypermissions\n",
       "26  0.000000         fastlane\n",
       "27  0.000000          flutter"
      ]
     },
     "execution_count": 36,
     "metadata": {},
     "output_type": "execute_result"
    }
   ],
   "source": [
    "top_for_pattern_for_verdict(result_df, pattern_name='MVP', verdict=False)"
   ]
  },
  {
   "cell_type": "code",
   "execution_count": 37,
   "metadata": {},
   "outputs": [
    {
     "name": "stdout",
     "output_type": "stream",
     "text": [
      "\r\n",
      "MVC: MVC Trio prefixes are []\r\n",
      "MVC: Controller file count is 0\r\n",
      "MVC: Found controller types are []\r\n",
      "MVC: Controller type mention count is 0\r\n",
      "MVP: Presenter file count is 1\r\n",
      "MVP: Found presenter types are [BasePresenter, ListAppPresenter]\r\n",
      "MVP: Presenter class mention count is 0\r\n",
      "MVVM: Data binding count is 0\r\n",
      "MVVM: ViewModel file count is 0\r\n",
      "MVVM: Found ViewModel types are []\r\n",
      "MVVM: ViewModel type mention count is 0\r\n",
      "MVI: rxJavaImportCount is 0\r\n",
      "MVC: 0.0, MVP: 0.045454545454545456, MVVM: 0.0, MVI: 0.0\r\n"
     ]
    }
   ],
   "source": [
    "filename_virtual_xposed = filename_for_df_name(result_df, 'VirtualXposed')\n",
    "\n",
    "!cat $filename_virtual_xposed"
   ]
  },
  {
   "cell_type": "markdown",
   "metadata": {},
   "source": [
    "Apesar de ter dois tipos _Presenter_, eles não são mencionados em arquivos _Activity_."
   ]
  },
  {
   "cell_type": "code",
   "execution_count": 38,
   "metadata": {},
   "outputs": [
    {
     "data": {
      "text/plain": [
       "[]"
      ]
     },
     "execution_count": 38,
     "metadata": {},
     "output_type": "execute_result"
    },
    {
     "data": {
      "image/png": "[encoded data removed]",
      "text/plain": [
       "<Figure size 432x288 with 1 Axes>"
      ]
     },
     "metadata": {
      "needs_background": "light"
     },
     "output_type": "display_data"
    }
   ],
   "source": [
    "histogram_for_pattern_and_verdict(result_df, pattern_name='MVVM', verdict=True).plot()"
   ]
  },
  {
   "cell_type": "code",
   "execution_count": 39,
   "metadata": {},
   "outputs": [
    {
     "data": {
      "text/plain": [
       "[]"
      ]
     },
     "execution_count": 39,
     "metadata": {},
     "output_type": "execute_result"
    },
    {
     "data": {
      "image/png": "[encoded data removed]",
      "text/plain": [
       "<Figure size 432x288 with 1 Axes>"
      ]
     },
     "metadata": {
      "needs_background": "light"
     },
     "output_type": "display_data"
    }
   ],
   "source": [
    "histogram_for_pattern_and_verdict(result_df, pattern_name='MVVM', verdict=False).plot()"
   ]
  },
  {
   "cell_type": "code",
   "execution_count": 40,
   "metadata": {},
   "outputs": [
    {
     "name": "stderr",
     "output_type": "stream",
     "text": [
      "/snap/jupyter/6/lib/python3.7/site-packages/ipykernel_launcher.py:2: UserWarning: Boolean Series key will be reindexed to match DataFrame index.\n",
      "  \n"
     ]
    },
    {
     "data": {
      "text/html": [
       "<div>\n",
       "<style scoped>\n",
       "    .dataframe tbody tr th:only-of-type {\n",
       "        vertical-align: middle;\n",
       "    }\n",
       "\n",
       "    .dataframe tbody tr th {\n",
       "        vertical-align: top;\n",
       "    }\n",
       "\n",
       "    .dataframe thead th {\n",
       "        text-align: right;\n",
       "    }\n",
       "</style>\n",
       "<table border=\"1\" class=\"dataframe\">\n",
       "  <thead>\n",
       "    <tr style=\"text-align: right;\">\n",
       "      <th></th>\n",
       "      <th>MVVM</th>\n",
       "      <th>name</th>\n",
       "    </tr>\n",
       "  </thead>\n",
       "  <tbody>\n",
       "    <tr>\n",
       "      <th>20</th>\n",
       "      <td>0.100000</td>\n",
       "      <td>QMUI_Android</td>\n",
       "    </tr>\n",
       "    <tr>\n",
       "      <th>6</th>\n",
       "      <td>0.047619</td>\n",
       "      <td>BaseRecyclerViewAdapterHelper</td>\n",
       "    </tr>\n",
       "    <tr>\n",
       "      <th>0</th>\n",
       "      <td>0.000000</td>\n",
       "      <td>ARouter</td>\n",
       "    </tr>\n",
       "    <tr>\n",
       "      <th>30</th>\n",
       "      <td>0.000000</td>\n",
       "      <td>libgdx</td>\n",
       "    </tr>\n",
       "    <tr>\n",
       "      <th>24</th>\n",
       "      <td>0.000000</td>\n",
       "      <td>cocos2d-x</td>\n",
       "    </tr>\n",
       "  </tbody>\n",
       "</table>\n",
       "</div>"
      ],
      "text/plain": [
       "        MVVM                           name\n",
       "20  0.100000                   QMUI_Android\n",
       "6   0.047619  BaseRecyclerViewAdapterHelper\n",
       "0   0.000000                        ARouter\n",
       "30  0.000000                         libgdx\n",
       "24  0.000000                      cocos2d-x"
      ]
     },
     "execution_count": 40,
     "metadata": {},
     "output_type": "execute_result"
    }
   ],
   "source": [
    "top_for_pattern_for_verdict(result_df, pattern_name='MVVM', verdict=False)"
   ]
  },
  {
   "cell_type": "code",
   "execution_count": 41,
   "metadata": {},
   "outputs": [
    {
     "name": "stdout",
     "output_type": "stream",
     "text": [
      "MVC\r\n",
      "MVC: MVC Trio prefixes are []\r\n",
      "MVC: Controller file count is 4\r\n",
      "MVC: Found controller types are [HomeLabController, HomeUtilController, HomeComponentsController, HomeController]\r\n",
      "MVC: Controller type mention count is 7\r\n",
      "MVP: Presenter file count is 0\r\n",
      "MVP: Found presenter types are []\r\n",
      "MVP: Presenter class mention count is 0\r\n",
      "MVVM: Data binding count is 0\r\n",
      "MVVM: ViewModel file count is 0\r\n",
      "MVVM: Found ViewModel types are [QMUIFragmentEffectRegistry]\r\n",
      "MVVM: ViewModel type mention count is 1\r\n",
      "MVI: rxJavaImportCount is 0\r\n",
      "MVC: 0.55, MVP: 0.0, MVVM: 0.1, MVI: 0.0\r\n"
     ]
    }
   ],
   "source": [
    "filename_qmui_android = filename_for_df_name(result_df, 'QMUI_Android')\n",
    "\n",
    "!cat $filename_qmui_android"
   ]
  },
  {
   "cell_type": "markdown",
   "metadata": {},
   "source": [
    "Neste caso, _QMUIFragemntEffectRegistry_ estende _ViewModel_. Porém, essa classe é pouco usada em comparação com as _Controller_.\n",
    "\n",
    "Em seguida, se encontra os histogramas para MVI."
   ]
  },
  {
   "cell_type": "code",
   "execution_count": 42,
   "metadata": {},
   "outputs": [
    {
     "data": {
      "text/plain": [
       "<AxesSubplot:>"
      ]
     },
     "execution_count": 42,
     "metadata": {},
     "output_type": "execute_result"
    },
    {
     "data": {
      "image/png": "[encoded data removed]",
      "text/plain": [
       "<Figure size 432x288 with 1 Axes>"
      ]
     },
     "metadata": {
      "needs_background": "light"
     },
     "output_type": "display_data"
    }
   ],
   "source": [
    "histogram_for_pattern_and_verdict(result_df, pattern_name='MVI', verdict=True)"
   ]
  },
  {
   "cell_type": "code",
   "execution_count": 43,
   "metadata": {},
   "outputs": [
    {
     "data": {
      "text/plain": [
       "<AxesSubplot:>"
      ]
     },
     "execution_count": 43,
     "metadata": {},
     "output_type": "execute_result"
    },
    {
     "data": {
      "image/png": "[encoded data removed]",
      "text/plain": [
       "<Figure size 432x288 with 1 Axes>"
      ]
     },
     "metadata": {
      "needs_background": "light"
     },
     "output_type": "display_data"
    }
   ],
   "source": [
    "histogram_for_pattern_and_verdict(result_df, pattern_name='MVI', verdict=False)"
   ]
  },
  {
   "cell_type": "code",
   "execution_count": 44,
   "metadata": {},
   "outputs": [
    {
     "name": "stderr",
     "output_type": "stream",
     "text": [
      "/snap/jupyter/6/lib/python3.7/site-packages/ipykernel_launcher.py:2: UserWarning: Boolean Series key will be reindexed to match DataFrame index.\n",
      "  \n"
     ]
    },
    {
     "data": {
      "text/html": [
       "<div>\n",
       "<style scoped>\n",
       "    .dataframe tbody tr th:only-of-type {\n",
       "        vertical-align: middle;\n",
       "    }\n",
       "\n",
       "    .dataframe tbody tr th {\n",
       "        vertical-align: top;\n",
       "    }\n",
       "\n",
       "    .dataframe thead th {\n",
       "        text-align: right;\n",
       "    }\n",
       "</style>\n",
       "<table border=\"1\" class=\"dataframe\">\n",
       "  <thead>\n",
       "    <tr style=\"text-align: right;\">\n",
       "      <th></th>\n",
       "      <th>MVI</th>\n",
       "      <th>name</th>\n",
       "    </tr>\n",
       "  </thead>\n",
       "  <tbody>\n",
       "    <tr>\n",
       "      <th>0</th>\n",
       "      <td>0.0</td>\n",
       "      <td>ARouter</td>\n",
       "    </tr>\n",
       "    <tr>\n",
       "      <th>31</th>\n",
       "      <td>0.0</td>\n",
       "      <td>logger</td>\n",
       "    </tr>\n",
       "    <tr>\n",
       "      <th>25</th>\n",
       "      <td>0.0</td>\n",
       "      <td>easypermissions</td>\n",
       "    </tr>\n",
       "    <tr>\n",
       "      <th>26</th>\n",
       "      <td>0.0</td>\n",
       "      <td>fastlane</td>\n",
       "    </tr>\n",
       "    <tr>\n",
       "      <th>27</th>\n",
       "      <td>0.0</td>\n",
       "      <td>flutter</td>\n",
       "    </tr>\n",
       "  </tbody>\n",
       "</table>\n",
       "</div>"
      ],
      "text/plain": [
       "    MVI             name\n",
       "0   0.0          ARouter\n",
       "31  0.0           logger\n",
       "25  0.0  easypermissions\n",
       "26  0.0         fastlane\n",
       "27  0.0          flutter"
      ]
     },
     "execution_count": 44,
     "metadata": {},
     "output_type": "execute_result"
    }
   ],
   "source": [
    "top_for_pattern_for_verdict(result_df, pattern_name='MVI', verdict=False)"
   ]
  },
  {
   "cell_type": "markdown",
   "metadata": {},
   "source": [
    "Todo projeto que apresentou algum indício de uso de MVI, de fato, utilizou o padrão arquitetural."
   ]
  }
 ],
 "metadata": {
  "kernelspec": {
   "display_name": "Python 3",
   "language": "python",
   "name": "python3"
  },
  "language_info": {
   "codemirror_mode": {
    "name": "ipython",
    "version": 3
   },
   "file_extension": ".py",
   "mimetype": "text/x-python",
   "name": "python",
   "nbconvert_exporter": "python",
   "pygments_lexer": "ipython3",
   "version": "3.7.3"
  }
 },
 "nbformat": 4,
 "nbformat_minor": 2
}
