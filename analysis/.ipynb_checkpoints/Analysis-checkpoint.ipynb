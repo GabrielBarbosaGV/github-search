{
 "cells": [
  {
   "cell_type": "markdown",
   "metadata": {},
   "source": [
    "# Breve análise dos resultados obtidos\n",
    "\n",
    "Neste notebook, são computados as média e mediana dos projetos coletados, dados os valores resultantes da detecção de padrões."
   ]
  },
  {
   "cell_type": "code",
   "execution_count": 1,
   "metadata": {},
   "outputs": [],
   "source": [
    "collected_projects_dir = '/home/gabriel/Personal/Study/2021.1/TG/collected-projects'"
   ]
  },
  {
   "cell_type": "code",
   "execution_count": 2,
   "metadata": {},
   "outputs": [
    {
     "data": {
      "text/plain": [
       "['ARouter',\n",
       " 'Android-CleanArchitecture',\n",
       " 'Android-ObservableScrollView',\n",
       " 'AndroidAutoSize',\n",
       " 'AndroidUtilCode',\n",
       " 'Auto.js',\n",
       " 'BaseRecyclerViewAdapterHelper',\n",
       " 'Detox',\n",
       " 'DoraemonKit',\n",
       " 'ExoPlayer',\n",
       " 'FileDownloader',\n",
       " 'GSYVideoPlayer',\n",
       " 'ImmersionBar',\n",
       " 'MMKV',\n",
       " 'MPAndroidChart',\n",
       " 'MVPArms',\n",
       " 'MaterialDesignLibrary',\n",
       " 'Matisse',\n",
       " 'NewPipe',\n",
       " 'PermissionsDispatcher',\n",
       " 'PictureSelector',\n",
       " 'QMUI_Android',\n",
       " 'SmartRefreshLayout',\n",
       " 'VirtualXposed',\n",
       " 'androidannotations',\n",
       " 'cocos2d-x',\n",
       " 'easypermissions',\n",
       " 'fastlane',\n",
       " 'flutter',\n",
       " 'glide',\n",
       " 'ijkplayer',\n",
       " 'joplin',\n",
       " 'libgdx',\n",
       " 'logger',\n",
       " 'material-components-android',\n",
       " 'matrix',\n",
       " 'mediapipe',\n",
       " 'realm-java',\n",
       " 'scrcpy',\n",
       " 'termux-app',\n",
       " 'uCrop',\n",
       " 'vlayout',\n",
       " 'wcdb',\n",
       " 'weex',\n",
       " 'xbmc',\n",
       " 'zxing']"
      ]
     },
     "execution_count": 2,
     "metadata": {},
     "output_type": "execute_result"
    }
   ],
   "source": [
    "projects_pattern = f'{collected_projects_dir}/*/'\n",
    "\n",
    "dirnames = !echo $projects_pattern\n",
    "\n",
    "dirnames = dirnames[0].split(' ')\n",
    "dirnames = [dirname[:-1] for dirname in dirnames] # Removendo barra restante de cada nome de diretório\n",
    "\n",
    "[dirname.split('/')[-1] for dirname in dirnames]"
   ]
  },
  {
   "cell_type": "code",
   "execution_count": 3,
   "metadata": {},
   "outputs": [
    {
     "data": {
      "text/plain": [
       "46"
      ]
     },
     "execution_count": 3,
     "metadata": {},
     "output_type": "execute_result"
    }
   ],
   "source": [
    "len(dirnames)"
   ]
  },
  {
   "cell_type": "code",
   "execution_count": 4,
   "metadata": {},
   "outputs": [],
   "source": [
    "text_results_files = [f'{dirname}.txt' for dirname in dirnames]"
   ]
  },
  {
   "cell_type": "code",
   "execution_count": 5,
   "metadata": {},
   "outputs": [],
   "source": [
    "def last_line_if_not_errored_else_none(lines):\n",
    "    return lines[-1] if not any('!! ERROR !!' in line or 'NaN' in line for line in lines) else None\n",
    "\n",
    "def lines_from_filename(filename):\n",
    "    with open(filename, 'r') as f:\n",
    "        return f.readlines()"
   ]
  },
  {
   "cell_type": "code",
   "execution_count": 6,
   "metadata": {},
   "outputs": [],
   "source": [
    "line_lists = (lines_from_filename(filename) for filename in text_results_files)\n",
    "\n",
    "result_strings = (last_line_if_not_errored_else_none(lines) for lines in line_lists)\n",
    "\n",
    "result_strings = [line for line in result_strings if line is not None]"
   ]
  },
  {
   "cell_type": "code",
   "execution_count": 7,
   "metadata": {},
   "outputs": [],
   "source": [
    "pattern_names = { 'MVC', 'MVP', 'MVVM', 'MVI' }"
   ]
  },
  {
   "cell_type": "code",
   "execution_count": 8,
   "metadata": {},
   "outputs": [],
   "source": [
    "import re"
   ]
  },
  {
   "cell_type": "code",
   "execution_count": 9,
   "metadata": {},
   "outputs": [],
   "source": [
    "def value_for_pattern_name(pattern_name, text):\n",
    "    if pattern_name not in pattern_names:\n",
    "        raise Exception(f'Error: given pattern, \"{pattern_name}\", is not one of \"MVC\", \"MVP\", \"MVVM\" or \"MVI\"')\n",
    "    \n",
    "    match = re.search(f'{pattern_name}' r': (\\d*.\\d*)', text)\n",
    "    \n",
    "    return match.group(1)"
   ]
  },
  {
   "cell_type": "code",
   "execution_count": 10,
   "metadata": {},
   "outputs": [],
   "source": [
    "results_per_pattern = {\n",
    "    pattern_name : [value_for_pattern_name(pattern_name, result_string) for result_string in result_strings]\n",
    "    for pattern_name\n",
    "    in pattern_names\n",
    "}"
   ]
  },
  {
   "cell_type": "code",
   "execution_count": 12,
   "metadata": {},
   "outputs": [
    {
     "ename": "ModuleNotFoundError",
     "evalue": "No module named 'pandas'",
     "output_type": "error",
     "traceback": [
      "\u001b[0;31m---------------------------------------------------------------------------\u001b[0m",
      "\u001b[0;31mModuleNotFoundError\u001b[0m                       Traceback (most recent call last)",
      "\u001b[0;32m<ipython-input-12-7dd3504c366f>\u001b[0m in \u001b[0;36m<module>\u001b[0;34m\u001b[0m\n\u001b[0;32m----> 1\u001b[0;31m \u001b[0;32mimport\u001b[0m \u001b[0mpandas\u001b[0m \u001b[0;32mas\u001b[0m \u001b[0mpd\u001b[0m\u001b[0;34m\u001b[0m\u001b[0;34m\u001b[0m\u001b[0m\n\u001b[0m",
      "\u001b[0;31mModuleNotFoundError\u001b[0m: No module named 'pandas'"
     ]
    }
   ],
   "source": [
    "import pandas as pd"
   ]
  },
  {
   "cell_type": "code",
   "execution_count": null,
   "metadata": {},
   "outputs": [],
   "source": []
  }
 ],
 "metadata": {
  "kernelspec": {
   "display_name": "Python 3",
   "language": "python",
   "name": "python3"
  },
  "language_info": {
   "codemirror_mode": {
    "name": "ipython",
    "version": 3
   },
   "file_extension": ".py",
   "mimetype": "text/x-python",
   "name": "python",
   "nbconvert_exporter": "python",
   "pygments_lexer": "ipython3",
   "version": "3.7.3"
  }
 },
 "nbformat": 4,
 "nbformat_minor": 2
}
