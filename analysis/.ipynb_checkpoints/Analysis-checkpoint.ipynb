{
 "cells": [
  {
   "cell_type": "markdown",
   "metadata": {},
   "source": [
    "# Breve análise dos resultados obtidos\n",
    "\n",
    "Neste notebook, são computados as média e mediana dos projetos coletados, dados os valores resultantes da detecção de padrões."
   ]
  },
  {
   "cell_type": "code",
   "execution_count": 1,
   "metadata": {},
   "outputs": [],
   "source": [
    "collected_projects_dir = '/home/gabriel/Personal/Study/2021.1/TG/collected-projects'"
   ]
  },
  {
   "cell_type": "code",
   "execution_count": 2,
   "metadata": {},
   "outputs": [
    {
     "data": {
      "text/plain": [
       "['ARouter',\n",
       " 'Android-CleanArchitecture',\n",
       " 'Android-ObservableScrollView',\n",
       " 'AndroidAutoSize',\n",
       " 'AndroidUtilCode',\n",
       " 'Auto.js',\n",
       " 'BaseRecyclerViewAdapterHelper',\n",
       " 'Detox',\n",
       " 'DoraemonKit',\n",
       " 'ExoPlayer',\n",
       " 'FileDownloader',\n",
       " 'GSYVideoPlayer',\n",
       " 'ImmersionBar',\n",
       " 'MMKV',\n",
       " 'MPAndroidChart',\n",
       " 'MVPArms',\n",
       " 'MaterialDesignLibrary',\n",
       " 'Matisse',\n",
       " 'NewPipe',\n",
       " 'PermissionsDispatcher',\n",
       " 'PictureSelector',\n",
       " 'QMUI_Android',\n",
       " 'SmartRefreshLayout',\n",
       " 'VirtualXposed',\n",
       " 'androidannotations',\n",
       " 'cocos2d-x',\n",
       " 'easypermissions',\n",
       " 'fastlane',\n",
       " 'flutter',\n",
       " 'glide',\n",
       " 'ijkplayer',\n",
       " 'joplin',\n",
       " 'libgdx',\n",
       " 'logger',\n",
       " 'material-components-android',\n",
       " 'matrix',\n",
       " 'mediapipe',\n",
       " 'realm-java',\n",
       " 'scrcpy',\n",
       " 'termux-app',\n",
       " 'uCrop',\n",
       " 'vlayout',\n",
       " 'wcdb',\n",
       " 'weex',\n",
       " 'xbmc',\n",
       " 'zxing']"
      ]
     },
     "execution_count": 2,
     "metadata": {},
     "output_type": "execute_result"
    }
   ],
   "source": [
    "projects_pattern = f'{collected_projects_dir}/*/'\n",
    "\n",
    "dirnames = !echo $projects_pattern\n",
    "\n",
    "dirnames = dirnames[0].split(' ')\n",
    "dirnames = [dirname[:-1] for dirname in dirnames] # Removendo barra restante de cada nome de diretório\n",
    "\n",
    "[dirname.split('/')[-1] for dirname in dirnames]"
   ]
  },
  {
   "cell_type": "code",
   "execution_count": 3,
   "metadata": {},
   "outputs": [
    {
     "data": {
      "text/plain": [
       "46"
      ]
     },
     "execution_count": 3,
     "metadata": {},
     "output_type": "execute_result"
    }
   ],
   "source": [
    "len(dirnames)"
   ]
  },
  {
   "cell_type": "code",
   "execution_count": 4,
   "metadata": {},
   "outputs": [],
   "source": [
    "text_results_files = [f'{dirname}.txt' for dirname in dirnames]"
   ]
  },
  {
   "cell_type": "code",
   "execution_count": 5,
   "metadata": {},
   "outputs": [],
   "source": [
    "# As únicas coleções de linhas consideráveis são aquelas para as quais não houve erros\n",
    "# e que não ouve resultados NaN, que indicam uma quantidade zero de arquivos Activity.java.\n",
    "# Enquanto há restrições na busca para que projetos sem arquivos Activity.java sejam selecionados,\n",
    "# ainda é possível que essa situação ocorra pela presença de arquivos cujos nomes apresentem a\n",
    "# mesma sequências de letras, como quaisquer que obedeçam a expressão regular\n",
    "# .*A.*c.*t.*i.*v.*i.*t.*.y.*\\..*j.*a.*v.*a.*\n",
    "def is_elligible(lines):\n",
    "    prohibited_elements = [\n",
    "        '!! ERROR !!',\n",
    "        'NaN'\n",
    "    ]\n",
    "    \n",
    "    return not any(any(elem in line for elem in prohibited_elements) for line in lines)\n",
    "\n",
    "def lines_from_filename(filename):\n",
    "    with open(filename, 'r') as f:\n",
    "        return f.readlines()"
   ]
  },
  {
   "cell_type": "code",
   "execution_count": 6,
   "metadata": {},
   "outputs": [],
   "source": [
    "line_lists = (lines_from_filename(filename) for filename in text_results_files)\n",
    "\n",
    "elligible_line_lists = list(filter(is_elligible, line_lists))\n",
    "\n",
    "result_strings = [lines[-1] for lines in elligible_line_lists]\n",
    "verdict_strings = [lines[0] for lines in elligible_line_lists]"
   ]
  },
  {
   "cell_type": "code",
   "execution_count": 7,
   "metadata": {},
   "outputs": [],
   "source": [
    "pattern_names = { 'MVC', 'MVP', 'MVVM', 'MVI' }"
   ]
  },
  {
   "cell_type": "code",
   "execution_count": 8,
   "metadata": {},
   "outputs": [],
   "source": [
    "import re"
   ]
  },
  {
   "cell_type": "code",
   "execution_count": 9,
   "metadata": {},
   "outputs": [],
   "source": [
    "def check_pattern_name(pattern_name):\n",
    "    if pattern_name not in pattern_names:\n",
    "        raise Exception(f'Error: given pattern, \"{pattern_name}\", is not one of \"MVC\", \"MVP\", \"MVVM\", or \"MVI\"')\n",
    "\n",
    "def verdict_for_pattern_name(pattern_name, text):\n",
    "    check_pattern_name(pattern_name)\n",
    "    \n",
    "    return pattern_name in text\n",
    "\n",
    "def value_for_pattern_name(pattern_name, text):\n",
    "    check_pattern_name(pattern_name)\n",
    "    \n",
    "    match = re.search(f'{pattern_name}' r': (\\d*.\\d*)', text)\n",
    "    \n",
    "    return float(match.group(1))"
   ]
  },
  {
   "cell_type": "code",
   "execution_count": 10,
   "metadata": {},
   "outputs": [],
   "source": [
    "results_per_pattern = {\n",
    "    pattern_name : [value_for_pattern_name(pattern_name, result_string) for result_string in result_strings]\n",
    "    for pattern_name\n",
    "    in pattern_names\n",
    "}"
   ]
  },
  {
   "cell_type": "code",
   "execution_count": 11,
   "metadata": {},
   "outputs": [],
   "source": [
    "verdicts_per_pattern = {\n",
    "    pattern_name : [verdict_for_pattern_name(pattern_name, result_string) for result_string in verdict_strings]\n",
    "    for pattern_name\n",
    "    in pattern_names\n",
    "}"
   ]
  },
  {
   "cell_type": "code",
   "execution_count": 12,
   "metadata": {},
   "outputs": [
    {
     "name": "stdout",
     "output_type": "stream",
     "text": [
      "WARNING: pip is being invoked by an old script wrapper. This will fail in a future version of pip.\n",
      "Please see https://github.com/pypa/pip/issues/5599 for advice on fixing the underlying issue.\n",
      "To avoid this problem you can invoke Python with '-m pip' instead of running pip directly.\n",
      "Requirement already satisfied: pandas in /home/gabriel/snap/jupyter/common/lib/python3.7/site-packages (1.3.5)\n",
      "Requirement already satisfied: pytz>=2017.3 in /home/gabriel/snap/jupyter/common/lib/python3.7/site-packages (from pandas) (2022.1)\n",
      "Requirement already satisfied: python-dateutil>=2.7.3 in /snap/jupyter/6/lib/python3.7/site-packages (from pandas) (2.8.0)\n",
      "Requirement already satisfied: numpy>=1.17.3 in /home/gabriel/snap/jupyter/common/lib/python3.7/site-packages (from pandas) (1.21.5)\n",
      "Requirement already satisfied: six>=1.5 in /snap/jupyter/6/lib/python3.7/site-packages (from python-dateutil>=2.7.3->pandas) (1.12.0)\n"
     ]
    }
   ],
   "source": [
    "!pip install pandas"
   ]
  },
  {
   "cell_type": "code",
   "execution_count": 13,
   "metadata": {},
   "outputs": [],
   "source": [
    "import pandas as pd"
   ]
  },
  {
   "cell_type": "code",
   "execution_count": 14,
   "metadata": {},
   "outputs": [],
   "source": [
    "ordered_pattern_names = ['MVC', 'MVP', 'MVVM', 'MVI']\n",
    "\n",
    "result_lists = [results_per_pattern[pattern_name] for pattern_name in ordered_pattern_names]\n",
    "verdict_lists = [verdicts_per_pattern[pattern_name] for pattern_name in ordered_pattern_names]\n",
    "\n",
    "result_table_transposed = [text_results_files, *result_lists, *verdict_lists]\n",
    "\n",
    "result_table = list(zip(*result_table_transposed))"
   ]
  },
  {
   "cell_type": "code",
   "execution_count": 15,
   "metadata": {},
   "outputs": [
    {
     "data": {
      "text/plain": [
       "[('/home/gabriel/Personal/Study/2021.1/TG/collected-projects/ARouter.txt',\n",
       "  0.0,\n",
       "  0.6333333333333333,\n",
       "  0.0,\n",
       "  0.0,\n",
       "  False,\n",
       "  True,\n",
       "  False,\n",
       "  False),\n",
       " ('/home/gabriel/Personal/Study/2021.1/TG/collected-projects/Android-CleanArchitecture.txt',\n",
       "  0.0,\n",
       "  0.782608695652174,\n",
       "  0.0,\n",
       "  0.0,\n",
       "  False,\n",
       "  True,\n",
       "  False,\n",
       "  False),\n",
       " ('/home/gabriel/Personal/Study/2021.1/TG/collected-projects/Android-ObservableScrollView.txt',\n",
       "  0.0,\n",
       "  0.8035714285714286,\n",
       "  0.0,\n",
       "  0.0,\n",
       "  False,\n",
       "  True,\n",
       "  False,\n",
       "  False)]"
      ]
     },
     "execution_count": 15,
     "metadata": {},
     "output_type": "execute_result"
    }
   ],
   "source": [
    "result_table[:3]"
   ]
  },
  {
   "cell_type": "code",
   "execution_count": 16,
   "metadata": {},
   "outputs": [
    {
     "data": {
      "text/html": [
       "<div>\n",
       "<style scoped>\n",
       "    .dataframe tbody tr th:only-of-type {\n",
       "        vertical-align: middle;\n",
       "    }\n",
       "\n",
       "    .dataframe tbody tr th {\n",
       "        vertical-align: top;\n",
       "    }\n",
       "\n",
       "    .dataframe thead th {\n",
       "        text-align: right;\n",
       "    }\n",
       "</style>\n",
       "<table border=\"1\" class=\"dataframe\">\n",
       "  <thead>\n",
       "    <tr style=\"text-align: right;\">\n",
       "      <th></th>\n",
       "      <th>filename</th>\n",
       "      <th>MVC</th>\n",
       "      <th>MVP</th>\n",
       "      <th>MVVM</th>\n",
       "      <th>MVI</th>\n",
       "      <th>MVC_VERDICT</th>\n",
       "      <th>MVP_VERDICT</th>\n",
       "      <th>MVVM_VERDICT</th>\n",
       "      <th>MVI_VERDICT</th>\n",
       "    </tr>\n",
       "  </thead>\n",
       "  <tbody>\n",
       "    <tr>\n",
       "      <th>0</th>\n",
       "      <td>/home/gabriel/Personal/Study/2021.1/TG/collect...</td>\n",
       "      <td>0.0</td>\n",
       "      <td>0.633333</td>\n",
       "      <td>0.0</td>\n",
       "      <td>0.0</td>\n",
       "      <td>False</td>\n",
       "      <td>True</td>\n",
       "      <td>False</td>\n",
       "      <td>False</td>\n",
       "    </tr>\n",
       "    <tr>\n",
       "      <th>1</th>\n",
       "      <td>/home/gabriel/Personal/Study/2021.1/TG/collect...</td>\n",
       "      <td>0.0</td>\n",
       "      <td>0.782609</td>\n",
       "      <td>0.0</td>\n",
       "      <td>0.0</td>\n",
       "      <td>False</td>\n",
       "      <td>True</td>\n",
       "      <td>False</td>\n",
       "      <td>False</td>\n",
       "    </tr>\n",
       "    <tr>\n",
       "      <th>2</th>\n",
       "      <td>/home/gabriel/Personal/Study/2021.1/TG/collect...</td>\n",
       "      <td>0.0</td>\n",
       "      <td>0.803571</td>\n",
       "      <td>0.0</td>\n",
       "      <td>0.0</td>\n",
       "      <td>False</td>\n",
       "      <td>True</td>\n",
       "      <td>False</td>\n",
       "      <td>False</td>\n",
       "    </tr>\n",
       "    <tr>\n",
       "      <th>3</th>\n",
       "      <td>/home/gabriel/Personal/Study/2021.1/TG/collect...</td>\n",
       "      <td>0.0</td>\n",
       "      <td>0.500000</td>\n",
       "      <td>0.0</td>\n",
       "      <td>0.0</td>\n",
       "      <td>False</td>\n",
       "      <td>False</td>\n",
       "      <td>False</td>\n",
       "      <td>False</td>\n",
       "    </tr>\n",
       "    <tr>\n",
       "      <th>4</th>\n",
       "      <td>/home/gabriel/Personal/Study/2021.1/TG/collect...</td>\n",
       "      <td>0.0</td>\n",
       "      <td>0.885714</td>\n",
       "      <td>0.0</td>\n",
       "      <td>0.0</td>\n",
       "      <td>False</td>\n",
       "      <td>True</td>\n",
       "      <td>False</td>\n",
       "      <td>False</td>\n",
       "    </tr>\n",
       "  </tbody>\n",
       "</table>\n",
       "</div>"
      ],
      "text/plain": [
       "                                            filename  MVC       MVP  MVVM  \\\n",
       "0  /home/gabriel/Personal/Study/2021.1/TG/collect...  0.0  0.633333   0.0   \n",
       "1  /home/gabriel/Personal/Study/2021.1/TG/collect...  0.0  0.782609   0.0   \n",
       "2  /home/gabriel/Personal/Study/2021.1/TG/collect...  0.0  0.803571   0.0   \n",
       "3  /home/gabriel/Personal/Study/2021.1/TG/collect...  0.0  0.500000   0.0   \n",
       "4  /home/gabriel/Personal/Study/2021.1/TG/collect...  0.0  0.885714   0.0   \n",
       "\n",
       "   MVI  MVC_VERDICT  MVP_VERDICT  MVVM_VERDICT  MVI_VERDICT  \n",
       "0  0.0        False         True         False        False  \n",
       "1  0.0        False         True         False        False  \n",
       "2  0.0        False         True         False        False  \n",
       "3  0.0        False        False         False        False  \n",
       "4  0.0        False         True         False        False  "
      ]
     },
     "execution_count": 16,
     "metadata": {},
     "output_type": "execute_result"
    }
   ],
   "source": [
    "result_df = pd.DataFrame(result_table, columns = [\n",
    "    'filename',\n",
    "    'MVC',\n",
    "    'MVP',\n",
    "    'MVVM',\n",
    "    'MVI',\n",
    "    'MVC_VERDICT',\n",
    "    'MVP_VERDICT',\n",
    "    'MVVM_VERDICT',\n",
    "    'MVI_VERDICT'\n",
    "])\n",
    "\n",
    "result_df.head()"
   ]
  },
  {
   "cell_type": "code",
   "execution_count": 17,
   "metadata": {},
   "outputs": [
    {
     "data": {
      "text/html": [
       "<div>\n",
       "<style scoped>\n",
       "    .dataframe tbody tr th:only-of-type {\n",
       "        vertical-align: middle;\n",
       "    }\n",
       "\n",
       "    .dataframe tbody tr th {\n",
       "        vertical-align: top;\n",
       "    }\n",
       "\n",
       "    .dataframe thead th {\n",
       "        text-align: right;\n",
       "    }\n",
       "</style>\n",
       "<table border=\"1\" class=\"dataframe\">\n",
       "  <thead>\n",
       "    <tr style=\"text-align: right;\">\n",
       "      <th></th>\n",
       "      <th>name</th>\n",
       "      <th>filename</th>\n",
       "    </tr>\n",
       "  </thead>\n",
       "  <tbody>\n",
       "    <tr>\n",
       "      <th>0</th>\n",
       "      <td>ARouter</td>\n",
       "      <td>/home/gabriel/Personal/Study/2021.1/TG/collect...</td>\n",
       "    </tr>\n",
       "    <tr>\n",
       "      <th>1</th>\n",
       "      <td>Android-CleanArchitecture</td>\n",
       "      <td>/home/gabriel/Personal/Study/2021.1/TG/collect...</td>\n",
       "    </tr>\n",
       "    <tr>\n",
       "      <th>2</th>\n",
       "      <td>Android-ObservableScrollView</td>\n",
       "      <td>/home/gabriel/Personal/Study/2021.1/TG/collect...</td>\n",
       "    </tr>\n",
       "    <tr>\n",
       "      <th>3</th>\n",
       "      <td>AndroidAutoSize</td>\n",
       "      <td>/home/gabriel/Personal/Study/2021.1/TG/collect...</td>\n",
       "    </tr>\n",
       "    <tr>\n",
       "      <th>4</th>\n",
       "      <td>AndroidUtilCode</td>\n",
       "      <td>/home/gabriel/Personal/Study/2021.1/TG/collect...</td>\n",
       "    </tr>\n",
       "  </tbody>\n",
       "</table>\n",
       "</div>"
      ],
      "text/plain": [
       "                           name  \\\n",
       "0                       ARouter   \n",
       "1     Android-CleanArchitecture   \n",
       "2  Android-ObservableScrollView   \n",
       "3               AndroidAutoSize   \n",
       "4               AndroidUtilCode   \n",
       "\n",
       "                                            filename  \n",
       "0  /home/gabriel/Personal/Study/2021.1/TG/collect...  \n",
       "1  /home/gabriel/Personal/Study/2021.1/TG/collect...  \n",
       "2  /home/gabriel/Personal/Study/2021.1/TG/collect...  \n",
       "3  /home/gabriel/Personal/Study/2021.1/TG/collect...  \n",
       "4  /home/gabriel/Personal/Study/2021.1/TG/collect...  "
      ]
     },
     "execution_count": 17,
     "metadata": {},
     "output_type": "execute_result"
    }
   ],
   "source": [
    "result_df['name'] = result_df['filename'].apply(lambda filename: re.search(r'([^/]+)\\.txt$', filename).group(1))\n",
    "\n",
    "result_df[['name', 'filename']].head()"
   ]
  },
  {
   "cell_type": "markdown",
   "metadata": {},
   "source": [
    "## Histogramas\n",
    "\n",
    "Aqui, plotar-se-ão histogramas dos valores limite para cada padrão arquitetural.\n",
    "\n",
    "Antes de iniciarmos, vejamos a quantidade de projetos para cada veredito para cada padrão arquitetural."
   ]
  },
  {
   "cell_type": "code",
   "execution_count": 18,
   "metadata": {},
   "outputs": [
    {
     "data": {
      "text/html": [
       "<div>\n",
       "<style scoped>\n",
       "    .dataframe tbody tr th:only-of-type {\n",
       "        vertical-align: middle;\n",
       "    }\n",
       "\n",
       "    .dataframe tbody tr th {\n",
       "        vertical-align: top;\n",
       "    }\n",
       "\n",
       "    .dataframe thead th {\n",
       "        text-align: right;\n",
       "    }\n",
       "</style>\n",
       "<table border=\"1\" class=\"dataframe\">\n",
       "  <thead>\n",
       "    <tr style=\"text-align: right;\">\n",
       "      <th></th>\n",
       "      <th>name</th>\n",
       "    </tr>\n",
       "    <tr>\n",
       "      <th>MVC_VERDICT</th>\n",
       "      <th></th>\n",
       "    </tr>\n",
       "  </thead>\n",
       "  <tbody>\n",
       "    <tr>\n",
       "      <th>False</th>\n",
       "      <td>41</td>\n",
       "    </tr>\n",
       "  </tbody>\n",
       "</table>\n",
       "</div>"
      ],
      "text/plain": [
       "             name\n",
       "MVC_VERDICT      \n",
       "False          41"
      ]
     },
     "execution_count": 18,
     "metadata": {},
     "output_type": "execute_result"
    }
   ],
   "source": [
    "def verdict_count_for_pattern_name(pattern_name):\n",
    "    return result_df[[f'{pattern_name}_VERDICT', 'name']].groupby(f'{pattern_name}_VERDICT').count()\n",
    "\n",
    "verdict_count_for_pattern_name('MVC')"
   ]
  },
  {
   "cell_type": "code",
   "execution_count": 19,
   "metadata": {},
   "outputs": [
    {
     "data": {
      "text/html": [
       "<div>\n",
       "<style scoped>\n",
       "    .dataframe tbody tr th:only-of-type {\n",
       "        vertical-align: middle;\n",
       "    }\n",
       "\n",
       "    .dataframe tbody tr th {\n",
       "        vertical-align: top;\n",
       "    }\n",
       "\n",
       "    .dataframe thead th {\n",
       "        text-align: right;\n",
       "    }\n",
       "</style>\n",
       "<table border=\"1\" class=\"dataframe\">\n",
       "  <thead>\n",
       "    <tr style=\"text-align: right;\">\n",
       "      <th></th>\n",
       "      <th>name</th>\n",
       "    </tr>\n",
       "    <tr>\n",
       "      <th>MVP_VERDICT</th>\n",
       "      <th></th>\n",
       "    </tr>\n",
       "  </thead>\n",
       "  <tbody>\n",
       "    <tr>\n",
       "      <th>False</th>\n",
       "      <td>6</td>\n",
       "    </tr>\n",
       "    <tr>\n",
       "      <th>True</th>\n",
       "      <td>35</td>\n",
       "    </tr>\n",
       "  </tbody>\n",
       "</table>\n",
       "</div>"
      ],
      "text/plain": [
       "             name\n",
       "MVP_VERDICT      \n",
       "False           6\n",
       "True           35"
      ]
     },
     "execution_count": 19,
     "metadata": {},
     "output_type": "execute_result"
    }
   ],
   "source": [
    "verdict_count_for_pattern_name('MVP')"
   ]
  },
  {
   "cell_type": "code",
   "execution_count": 20,
   "metadata": {},
   "outputs": [
    {
     "data": {
      "text/html": [
       "<div>\n",
       "<style scoped>\n",
       "    .dataframe tbody tr th:only-of-type {\n",
       "        vertical-align: middle;\n",
       "    }\n",
       "\n",
       "    .dataframe tbody tr th {\n",
       "        vertical-align: top;\n",
       "    }\n",
       "\n",
       "    .dataframe thead th {\n",
       "        text-align: right;\n",
       "    }\n",
       "</style>\n",
       "<table border=\"1\" class=\"dataframe\">\n",
       "  <thead>\n",
       "    <tr style=\"text-align: right;\">\n",
       "      <th></th>\n",
       "      <th>name</th>\n",
       "    </tr>\n",
       "    <tr>\n",
       "      <th>MVVM_VERDICT</th>\n",
       "      <th></th>\n",
       "    </tr>\n",
       "  </thead>\n",
       "  <tbody>\n",
       "    <tr>\n",
       "      <th>False</th>\n",
       "      <td>41</td>\n",
       "    </tr>\n",
       "  </tbody>\n",
       "</table>\n",
       "</div>"
      ],
      "text/plain": [
       "              name\n",
       "MVVM_VERDICT      \n",
       "False           41"
      ]
     },
     "execution_count": 20,
     "metadata": {},
     "output_type": "execute_result"
    }
   ],
   "source": [
    "verdict_count_for_pattern_name('MVVM')"
   ]
  },
  {
   "cell_type": "code",
   "execution_count": 21,
   "metadata": {},
   "outputs": [
    {
     "data": {
      "text/html": [
       "<div>\n",
       "<style scoped>\n",
       "    .dataframe tbody tr th:only-of-type {\n",
       "        vertical-align: middle;\n",
       "    }\n",
       "\n",
       "    .dataframe tbody tr th {\n",
       "        vertical-align: top;\n",
       "    }\n",
       "\n",
       "    .dataframe thead th {\n",
       "        text-align: right;\n",
       "    }\n",
       "</style>\n",
       "<table border=\"1\" class=\"dataframe\">\n",
       "  <thead>\n",
       "    <tr style=\"text-align: right;\">\n",
       "      <th></th>\n",
       "      <th>name</th>\n",
       "    </tr>\n",
       "    <tr>\n",
       "      <th>MVI_VERDICT</th>\n",
       "      <th></th>\n",
       "    </tr>\n",
       "  </thead>\n",
       "  <tbody>\n",
       "    <tr>\n",
       "      <th>False</th>\n",
       "      <td>39</td>\n",
       "    </tr>\n",
       "    <tr>\n",
       "      <th>True</th>\n",
       "      <td>2</td>\n",
       "    </tr>\n",
       "  </tbody>\n",
       "</table>\n",
       "</div>"
      ],
      "text/plain": [
       "             name\n",
       "MVI_VERDICT      \n",
       "False          39\n",
       "True            2"
      ]
     },
     "execution_count": 21,
     "metadata": {},
     "output_type": "execute_result"
    }
   ],
   "source": [
    "verdict_count_for_pattern_name('MVI')"
   ]
  },
  {
   "cell_type": "markdown",
   "metadata": {},
   "source": [
    "De acordo com a revisão dos _outputs_ de _debugging_ do detector de padrões, MVP é apresentado muito frequentemente, MVI somente duas vezes, enquanto os outros em nenhum dos projetos estudados. Há, também, projetos sem padrão definido."
   ]
  },
  {
   "cell_type": "code",
   "execution_count": 22,
   "metadata": {},
   "outputs": [
    {
     "data": {
      "text/html": [
       "<div>\n",
       "<style scoped>\n",
       "    .dataframe tbody tr th:only-of-type {\n",
       "        vertical-align: middle;\n",
       "    }\n",
       "\n",
       "    .dataframe tbody tr th {\n",
       "        vertical-align: top;\n",
       "    }\n",
       "\n",
       "    .dataframe thead th {\n",
       "        text-align: right;\n",
       "    }\n",
       "</style>\n",
       "<table border=\"1\" class=\"dataframe\">\n",
       "  <thead>\n",
       "    <tr style=\"text-align: right;\">\n",
       "      <th></th>\n",
       "      <th>MVC</th>\n",
       "      <th>MVP</th>\n",
       "      <th>MVVM</th>\n",
       "      <th>MVI</th>\n",
       "      <th>name</th>\n",
       "    </tr>\n",
       "  </thead>\n",
       "  <tbody>\n",
       "    <tr>\n",
       "      <th>3</th>\n",
       "      <td>0.0</td>\n",
       "      <td>0.500000</td>\n",
       "      <td>0.0</td>\n",
       "      <td>0.0</td>\n",
       "      <td>AndroidAutoSize</td>\n",
       "    </tr>\n",
       "    <tr>\n",
       "      <th>23</th>\n",
       "      <td>0.0</td>\n",
       "      <td>0.344538</td>\n",
       "      <td>0.0</td>\n",
       "      <td>0.0</td>\n",
       "      <td>VirtualXposed</td>\n",
       "    </tr>\n",
       "    <tr>\n",
       "      <th>27</th>\n",
       "      <td>0.0</td>\n",
       "      <td>0.592593</td>\n",
       "      <td>0.0</td>\n",
       "      <td>0.0</td>\n",
       "      <td>fastlane</td>\n",
       "    </tr>\n",
       "    <tr>\n",
       "      <th>29</th>\n",
       "      <td>0.0</td>\n",
       "      <td>0.000000</td>\n",
       "      <td>0.0</td>\n",
       "      <td>0.0</td>\n",
       "      <td>glide</td>\n",
       "    </tr>\n",
       "    <tr>\n",
       "      <th>30</th>\n",
       "      <td>0.0</td>\n",
       "      <td>0.500000</td>\n",
       "      <td>0.0</td>\n",
       "      <td>0.0</td>\n",
       "      <td>ijkplayer</td>\n",
       "    </tr>\n",
       "    <tr>\n",
       "      <th>39</th>\n",
       "      <td>0.0</td>\n",
       "      <td>0.666667</td>\n",
       "      <td>0.0</td>\n",
       "      <td>0.0</td>\n",
       "      <td>termux-app</td>\n",
       "    </tr>\n",
       "  </tbody>\n",
       "</table>\n",
       "</div>"
      ],
      "text/plain": [
       "    MVC       MVP  MVVM  MVI             name\n",
       "3   0.0  0.500000   0.0  0.0  AndroidAutoSize\n",
       "23  0.0  0.344538   0.0  0.0    VirtualXposed\n",
       "27  0.0  0.592593   0.0  0.0         fastlane\n",
       "29  0.0  0.000000   0.0  0.0            glide\n",
       "30  0.0  0.500000   0.0  0.0        ijkplayer\n",
       "39  0.0  0.666667   0.0  0.0       termux-app"
      ]
     },
     "execution_count": 22,
     "metadata": {},
     "output_type": "execute_result"
    }
   ],
   "source": [
    "result_df[\n",
    "    ~result_df['MVC_VERDICT'] &\n",
    "    ~result_df['MVP_VERDICT'] &\n",
    "    ~result_df['MVVM_VERDICT'] &\n",
    "    ~result_df['MVI_VERDICT']\n",
    "][['MVC', 'MVP', 'MVVM', 'MVI', 'name']]"
   ]
  }
 ],
 "metadata": {
  "kernelspec": {
   "display_name": "Python 3",
   "language": "python",
   "name": "python3"
  },
  "language_info": {
   "codemirror_mode": {
    "name": "ipython",
    "version": 3
   },
   "file_extension": ".py",
   "mimetype": "text/x-python",
   "name": "python",
   "nbconvert_exporter": "python",
   "pygments_lexer": "ipython3",
   "version": "3.7.3"
  }
 },
 "nbformat": 4,
 "nbformat_minor": 2
}
